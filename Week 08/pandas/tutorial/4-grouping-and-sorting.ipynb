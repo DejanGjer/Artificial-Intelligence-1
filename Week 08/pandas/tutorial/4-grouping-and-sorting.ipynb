{
 "cells": [
  {
   "cell_type": "markdown",
   "id": "264b9d54",
   "metadata": {
    "papermill": {
     "duration": 0.006706,
     "end_time": "2023-04-21T13:40:20.492840",
     "exception": false,
     "start_time": "2023-04-21T13:40:20.486134",
     "status": "completed"
    },
    "tags": []
   },
   "source": [
    "# Introduction\n",
    "\n",
    "Maps allow us to transform data in a DataFrame or Series one value at a time for an entire column. However, often we want to group our data, and then do something specific to the group the data is in. \n",
    "\n",
    "As you'll learn, we do this with the `groupby()` operation.  We'll also cover some additional topics, such as more complex ways to index your DataFrames, along with how to sort your data.\n",
    "\n",
    "**To start the exercise for this topic, please click [here](https://www.kaggle.com/kernels/fork/598715).**\n",
    "\n",
    "# Groupwise analysis\n",
    "\n",
    "One function we've been using heavily thus far is the `value_counts()` function. We can replicate what `value_counts()` does by doing the following:"
   ]
  },
  {
   "cell_type": "code",
   "execution_count": null,
   "id": "4983e632",
   "metadata": {
    "_kg_hide-input": true,
    "execution": {
     "iopub.execute_input": "2023-04-21T13:40:20.505847Z",
     "iopub.status.busy": "2023-04-21T13:40:20.505391Z",
     "iopub.status.idle": "2023-04-21T13:40:22.370123Z",
     "shell.execute_reply": "2023-04-21T13:40:22.368696Z"
    },
    "papermill": {
     "duration": 1.87464,
     "end_time": "2023-04-21T13:40:22.373264",
     "exception": false,
     "start_time": "2023-04-21T13:40:20.498624",
     "status": "completed"
    },
    "tags": []
   },
   "outputs": [],
   "source": [
    "\n",
    "import pandas as pd\n",
    "reviews = pd.read_csv(\"../input/wine-reviews/winemag-data-130k-v2.csv\", index_col=0)\n",
    "pd.set_option(\"display.max_rows\", 5)"
   ]
  },
  {
   "cell_type": "code",
   "execution_count": null,
   "id": "3e2d9476",
   "metadata": {
    "execution": {
     "iopub.execute_input": "2023-04-21T13:40:22.387116Z",
     "iopub.status.busy": "2023-04-21T13:40:22.385705Z",
     "iopub.status.idle": "2023-04-21T13:40:22.405167Z",
     "shell.execute_reply": "2023-04-21T13:40:22.403936Z"
    },
    "papermill": {
     "duration": 0.029923,
     "end_time": "2023-04-21T13:40:22.408764",
     "exception": false,
     "start_time": "2023-04-21T13:40:22.378841",
     "status": "completed"
    },
    "scrolled": false,
    "tags": []
   },
   "outputs": [],
   "source": [
    "reviews.groupby('points').points.count()"
   ]
  },
  {
   "cell_type": "markdown",
   "id": "5265fe46",
   "metadata": {
    "papermill": {
     "duration": 0.005669,
     "end_time": "2023-04-21T13:40:22.420786",
     "exception": false,
     "start_time": "2023-04-21T13:40:22.415117",
     "status": "completed"
    },
    "tags": []
   },
   "source": [
    "`groupby()` created a group of reviews which allotted the same point values to the given wines. Then, for each of these groups, we grabbed the `points()` column and counted how many times it appeared.  `value_counts()` is just a shortcut to this `groupby()` operation. \n",
    "\n",
    "We can use any of the summary functions we've used before with this data. For example, to get the cheapest wine in each point value category, we can do the following:"
   ]
  },
  {
   "cell_type": "code",
   "execution_count": null,
   "id": "ee9a8142",
   "metadata": {
    "execution": {
     "iopub.execute_input": "2023-04-21T13:40:22.434409Z",
     "iopub.status.busy": "2023-04-21T13:40:22.433610Z",
     "iopub.status.idle": "2023-04-21T13:40:22.451192Z",
     "shell.execute_reply": "2023-04-21T13:40:22.449734Z"
    },
    "papermill": {
     "duration": 0.027565,
     "end_time": "2023-04-21T13:40:22.453945",
     "exception": false,
     "start_time": "2023-04-21T13:40:22.426380",
     "status": "completed"
    },
    "scrolled": true,
    "tags": []
   },
   "outputs": [],
   "source": [
    "reviews.groupby('points').price.min()"
   ]
  },
  {
   "cell_type": "markdown",
   "id": "b51ed229",
   "metadata": {
    "papermill": {
     "duration": 0.005499,
     "end_time": "2023-04-21T13:40:22.466493",
     "exception": false,
     "start_time": "2023-04-21T13:40:22.460994",
     "status": "completed"
    },
    "tags": []
   },
   "source": [
    "You can think of each group we generate as being a slice of our DataFrame containing only data with values that match. This DataFrame is accessible to us directly using the `apply()` method, and we can then manipulate the data in any way we see fit. For example, here's one way of selecting the name of the first wine reviewed from each winery in the dataset:"
   ]
  },
  {
   "cell_type": "code",
   "execution_count": null,
   "id": "72ebd4c2",
   "metadata": {
    "execution": {
     "iopub.execute_input": "2023-04-21T13:40:22.480404Z",
     "iopub.status.busy": "2023-04-21T13:40:22.479992Z",
     "iopub.status.idle": "2023-04-21T13:40:23.485421Z",
     "shell.execute_reply": "2023-04-21T13:40:23.484151Z"
    },
    "papermill": {
     "duration": 1.016299,
     "end_time": "2023-04-21T13:40:23.488626",
     "exception": false,
     "start_time": "2023-04-21T13:40:22.472327",
     "status": "completed"
    },
    "tags": []
   },
   "outputs": [],
   "source": [
    "reviews.groupby('winery').apply(lambda df: df.title.iloc[0])"
   ]
  },
  {
   "cell_type": "markdown",
   "id": "c669fe4a",
   "metadata": {
    "papermill": {
     "duration": 0.005599,
     "end_time": "2023-04-21T13:40:23.500283",
     "exception": false,
     "start_time": "2023-04-21T13:40:23.494684",
     "status": "completed"
    },
    "tags": []
   },
   "source": [
    "For even more fine-grained control, you can also group by more than one column. For an example, here's how we would pick out the best wine by country _and_ province:"
   ]
  },
  {
   "cell_type": "code",
   "execution_count": null,
   "id": "f0771b83",
   "metadata": {
    "execution": {
     "iopub.execute_input": "2023-04-21T13:40:23.514472Z",
     "iopub.status.busy": "2023-04-21T13:40:23.513638Z",
     "iopub.status.idle": "2023-04-21T13:40:23.824818Z",
     "shell.execute_reply": "2023-04-21T13:40:23.823722Z"
    },
    "papermill": {
     "duration": 0.321332,
     "end_time": "2023-04-21T13:40:23.827642",
     "exception": false,
     "start_time": "2023-04-21T13:40:23.506310",
     "status": "completed"
    },
    "scrolled": false,
    "tags": []
   },
   "outputs": [],
   "source": [
    "reviews.groupby(['country', 'province']).apply(lambda df: df.loc[df.points.idxmax()])"
   ]
  },
  {
   "cell_type": "markdown",
   "id": "06c5aa4e",
   "metadata": {
    "papermill": {
     "duration": 0.006473,
     "end_time": "2023-04-21T13:40:23.841084",
     "exception": false,
     "start_time": "2023-04-21T13:40:23.834611",
     "status": "completed"
    },
    "tags": []
   },
   "source": [
    "Another `groupby()` method worth mentioning is `agg()`, which lets you run a bunch of different functions on your DataFrame simultaneously. For example, we can generate a simple statistical summary of the dataset as follows:"
   ]
  },
  {
   "cell_type": "code",
   "execution_count": null,
   "id": "912d0759",
   "metadata": {
    "execution": {
     "iopub.execute_input": "2023-04-21T13:40:23.855912Z",
     "iopub.status.busy": "2023-04-21T13:40:23.855454Z",
     "iopub.status.idle": "2023-04-21T13:40:23.890617Z",
     "shell.execute_reply": "2023-04-21T13:40:23.889272Z"
    },
    "papermill": {
     "duration": 0.045822,
     "end_time": "2023-04-21T13:40:23.893400",
     "exception": false,
     "start_time": "2023-04-21T13:40:23.847578",
     "status": "completed"
    },
    "tags": []
   },
   "outputs": [],
   "source": [
    "reviews.groupby(['country']).price.agg([len, min, max])"
   ]
  },
  {
   "cell_type": "markdown",
   "id": "a7b38881",
   "metadata": {
    "papermill": {
     "duration": 0.006522,
     "end_time": "2023-04-21T13:40:23.908152",
     "exception": false,
     "start_time": "2023-04-21T13:40:23.901630",
     "status": "completed"
    },
    "tags": []
   },
   "source": [
    "Effective use of `groupby()` will allow you to do lots of really powerful things with your dataset."
   ]
  },
  {
   "cell_type": "markdown",
   "id": "ec8c6fd3",
   "metadata": {
    "papermill": {
     "duration": 0.006317,
     "end_time": "2023-04-21T13:40:23.921221",
     "exception": false,
     "start_time": "2023-04-21T13:40:23.914904",
     "status": "completed"
    },
    "tags": []
   },
   "source": [
    "# Multi-indexes\n",
    "\n",
    "In all of the examples we've seen thus far we've been working with DataFrame or Series objects with a single-label index. `groupby()` is slightly different in the fact that, depending on the operation we run, it will sometimes result in what is called a multi-index.\n",
    "\n",
    "A multi-index differs from a regular index in that it has multiple levels. For example:"
   ]
  },
  {
   "cell_type": "code",
   "execution_count": null,
   "id": "04b17c05",
   "metadata": {
    "execution": {
     "iopub.execute_input": "2023-04-21T13:40:23.937052Z",
     "iopub.status.busy": "2023-04-21T13:40:23.936629Z",
     "iopub.status.idle": "2023-04-21T13:40:23.995789Z",
     "shell.execute_reply": "2023-04-21T13:40:23.994462Z"
    },
    "papermill": {
     "duration": 0.070646,
     "end_time": "2023-04-21T13:40:23.998529",
     "exception": false,
     "start_time": "2023-04-21T13:40:23.927883",
     "status": "completed"
    },
    "scrolled": true,
    "tags": []
   },
   "outputs": [],
   "source": [
    "countries_reviewed = reviews.groupby(['country', 'province']).description.agg([len])\n",
    "countries_reviewed"
   ]
  },
  {
   "cell_type": "code",
   "execution_count": null,
   "id": "3cbacd7d",
   "metadata": {
    "execution": {
     "iopub.execute_input": "2023-04-21T13:40:24.015125Z",
     "iopub.status.busy": "2023-04-21T13:40:24.014534Z",
     "iopub.status.idle": "2023-04-21T13:40:24.022629Z",
     "shell.execute_reply": "2023-04-21T13:40:24.021267Z"
    },
    "papermill": {
     "duration": 0.019294,
     "end_time": "2023-04-21T13:40:24.025262",
     "exception": false,
     "start_time": "2023-04-21T13:40:24.005968",
     "status": "completed"
    },
    "tags": []
   },
   "outputs": [],
   "source": [
    "mi = countries_reviewed.index\n",
    "type(mi)"
   ]
  },
  {
   "cell_type": "markdown",
   "id": "c1c20637",
   "metadata": {
    "papermill": {
     "duration": 0.006933,
     "end_time": "2023-04-21T13:40:24.039358",
     "exception": false,
     "start_time": "2023-04-21T13:40:24.032425",
     "status": "completed"
    },
    "tags": []
   },
   "source": [
    "Multi-indices have several methods for dealing with their tiered structure which are absent for single-level indices. They also require two levels of labels to retrieve a value. Dealing with multi-index output is a common \"gotcha\" for users new to pandas.\n",
    "\n",
    "The use cases for a multi-index are detailed alongside instructions on using them in the [MultiIndex / Advanced Selection](https://pandas.pydata.org/pandas-docs/stable/advanced.html) section of the pandas documentation.\n",
    "\n",
    "However, in general the multi-index method you will use most often is the one for converting back to a regular index, the `reset_index()` method:"
   ]
  },
  {
   "cell_type": "code",
   "execution_count": null,
   "id": "2759efec",
   "metadata": {
    "execution": {
     "iopub.execute_input": "2023-04-21T13:40:24.056385Z",
     "iopub.status.busy": "2023-04-21T13:40:24.055128Z",
     "iopub.status.idle": "2023-04-21T13:40:24.072394Z",
     "shell.execute_reply": "2023-04-21T13:40:24.071255Z"
    },
    "papermill": {
     "duration": 0.02839,
     "end_time": "2023-04-21T13:40:24.074939",
     "exception": false,
     "start_time": "2023-04-21T13:40:24.046549",
     "status": "completed"
    },
    "tags": []
   },
   "outputs": [],
   "source": [
    "countries_reviewed.reset_index()"
   ]
  },
  {
   "cell_type": "markdown",
   "id": "5a44ac16",
   "metadata": {
    "papermill": {
     "duration": 0.0072,
     "end_time": "2023-04-21T13:40:24.089598",
     "exception": false,
     "start_time": "2023-04-21T13:40:24.082398",
     "status": "completed"
    },
    "tags": []
   },
   "source": [
    "# Sorting\n",
    "\n",
    "Looking again at `countries_reviewed` we can see that grouping returns data in index order, not in value order. That is to say, when outputting the result of a `groupby`, the order of the rows is dependent on the values in the index, not in the data.\n",
    "\n",
    "To get data in the order want it in we can sort it ourselves.  The `sort_values()` method is handy for this."
   ]
  },
  {
   "cell_type": "code",
   "execution_count": null,
   "id": "c634152c",
   "metadata": {
    "execution": {
     "iopub.execute_input": "2023-04-21T13:40:24.106555Z",
     "iopub.status.busy": "2023-04-21T13:40:24.106135Z",
     "iopub.status.idle": "2023-04-21T13:40:24.122081Z",
     "shell.execute_reply": "2023-04-21T13:40:24.120672Z"
    },
    "papermill": {
     "duration": 0.027594,
     "end_time": "2023-04-21T13:40:24.124713",
     "exception": false,
     "start_time": "2023-04-21T13:40:24.097119",
     "status": "completed"
    },
    "tags": []
   },
   "outputs": [],
   "source": [
    "countries_reviewed = countries_reviewed.reset_index()\n",
    "countries_reviewed.sort_values(by='len')"
   ]
  },
  {
   "cell_type": "markdown",
   "id": "79df12d4",
   "metadata": {
    "papermill": {
     "duration": 0.007321,
     "end_time": "2023-04-21T13:40:24.139709",
     "exception": false,
     "start_time": "2023-04-21T13:40:24.132388",
     "status": "completed"
    },
    "tags": []
   },
   "source": [
    "`sort_values()` defaults to an ascending sort, where the lowest values go first. However, most of the time we want a descending sort, where the higher numbers go first. That goes thusly:"
   ]
  },
  {
   "cell_type": "code",
   "execution_count": null,
   "id": "d25505d7",
   "metadata": {
    "execution": {
     "iopub.execute_input": "2023-04-21T13:40:24.157127Z",
     "iopub.status.busy": "2023-04-21T13:40:24.156645Z",
     "iopub.status.idle": "2023-04-21T13:40:24.172446Z",
     "shell.execute_reply": "2023-04-21T13:40:24.171255Z"
    },
    "papermill": {
     "duration": 0.027723,
     "end_time": "2023-04-21T13:40:24.175047",
     "exception": false,
     "start_time": "2023-04-21T13:40:24.147324",
     "status": "completed"
    },
    "tags": []
   },
   "outputs": [],
   "source": [
    "countries_reviewed.sort_values(by='len', ascending=False)"
   ]
  },
  {
   "cell_type": "markdown",
   "id": "ba6f03c6",
   "metadata": {
    "papermill": {
     "duration": 0.007607,
     "end_time": "2023-04-21T13:40:24.190598",
     "exception": false,
     "start_time": "2023-04-21T13:40:24.182991",
     "status": "completed"
    },
    "tags": []
   },
   "source": [
    "To sort by index values, use the companion method `sort_index()`. This method has the same arguments and default order:"
   ]
  },
  {
   "cell_type": "code",
   "execution_count": null,
   "id": "a3ab19e3",
   "metadata": {
    "execution": {
     "iopub.execute_input": "2023-04-21T13:40:24.208134Z",
     "iopub.status.busy": "2023-04-21T13:40:24.207694Z",
     "iopub.status.idle": "2023-04-21T13:40:24.222165Z",
     "shell.execute_reply": "2023-04-21T13:40:24.220906Z"
    },
    "papermill": {
     "duration": 0.026422,
     "end_time": "2023-04-21T13:40:24.224742",
     "exception": false,
     "start_time": "2023-04-21T13:40:24.198320",
     "status": "completed"
    },
    "tags": []
   },
   "outputs": [],
   "source": [
    "countries_reviewed.sort_index()"
   ]
  },
  {
   "cell_type": "markdown",
   "id": "83436e94",
   "metadata": {
    "papermill": {
     "duration": 0.007727,
     "end_time": "2023-04-21T13:40:24.240617",
     "exception": false,
     "start_time": "2023-04-21T13:40:24.232890",
     "status": "completed"
    },
    "tags": []
   },
   "source": [
    "Finally, know that you can sort by more than one column at a time:"
   ]
  },
  {
   "cell_type": "code",
   "execution_count": null,
   "id": "787255ef",
   "metadata": {
    "execution": {
     "iopub.execute_input": "2023-04-21T13:40:24.258536Z",
     "iopub.status.busy": "2023-04-21T13:40:24.258079Z",
     "iopub.status.idle": "2023-04-21T13:40:24.275443Z",
     "shell.execute_reply": "2023-04-21T13:40:24.274360Z"
    },
    "papermill": {
     "duration": 0.029012,
     "end_time": "2023-04-21T13:40:24.277708",
     "exception": false,
     "start_time": "2023-04-21T13:40:24.248696",
     "status": "completed"
    },
    "tags": []
   },
   "outputs": [],
   "source": [
    "countries_reviewed.sort_values(by=['country', 'len'])"
   ]
  },
  {
   "cell_type": "markdown",
   "id": "5c4ae7f6",
   "metadata": {
    "papermill": {
     "duration": 0.008164,
     "end_time": "2023-04-21T13:40:24.294950",
     "exception": false,
     "start_time": "2023-04-21T13:40:24.286786",
     "status": "completed"
    },
    "tags": []
   },
   "source": [
    "# Your turn\n",
    "\n",
    "If you haven't started the exercise, you can **[get started here](https://www.kaggle.com/kernels/fork/598715)**."
   ]
  },
  {
   "cell_type": "markdown",
   "id": "fc9b8e4d",
   "metadata": {
    "papermill": {
     "duration": 0.007856,
     "end_time": "2023-04-21T13:40:24.311126",
     "exception": false,
     "start_time": "2023-04-21T13:40:24.303270",
     "status": "completed"
    },
    "tags": []
   },
   "source": [
    "---\n",
    "\n",
    "\n",
    "\n",
    "\n",
    "*Have questions or comments? Visit the [course discussion forum](https://www.kaggle.com/learn/pandas/discussion) to chat with other learners.*"
   ]
  }
 ],
 "metadata": {
  "kernelspec": {
   "display_name": "Python 3",
   "language": "python",
   "name": "python3"
  },
  "language_info": {
   "codemirror_mode": {
    "name": "ipython",
    "version": 3
   },
   "file_extension": ".py",
   "mimetype": "text/x-python",
   "name": "python",
   "nbconvert_exporter": "python",
   "pygments_lexer": "ipython3",
   "version": "3.11.5"
  },
  "papermill": {
   "default_parameters": {},
   "duration": 15.153513,
   "end_time": "2023-04-21T13:40:25.042160",
   "environment_variables": {},
   "exception": null,
   "input_path": "__notebook__.ipynb",
   "output_path": "__notebook__.ipynb",
   "parameters": {},
   "start_time": "2023-04-21T13:40:09.888647",
   "version": "2.4.0"
  }
 },
 "nbformat": 4,
 "nbformat_minor": 5
}
