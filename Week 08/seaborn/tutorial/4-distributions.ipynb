{
 "cells": [
  {
   "cell_type": "markdown",
   "id": "13911598",
   "metadata": {
    "papermill": {
     "duration": 0.006483,
     "end_time": "2023-04-20T18:04:56.195366",
     "exception": false,
     "start_time": "2023-04-20T18:04:56.188883",
     "status": "completed"
    },
    "tags": []
   },
   "source": [
    "In this tutorial you'll learn all about **histograms** and **density plots**.\n",
    "\n",
    "# Set up the notebook\n",
    "\n",
    "As always, we begin by setting up the coding environment.  (_This code is hidden, but you can un-hide it by clicking on the \"Code\" button immediately below this text, on the right._)"
   ]
  },
  {
   "cell_type": "code",
   "execution_count": 1,
   "id": "15da5cda",
   "metadata": {
    "_kg_hide-input": true,
    "_kg_hide-output": true,
    "execution": {
     "iopub.execute_input": "2023-04-20T18:04:56.206766Z",
     "iopub.status.busy": "2023-04-20T18:04:56.206341Z",
     "iopub.status.idle": "2023-04-20T18:04:57.552132Z",
     "shell.execute_reply": "2023-04-20T18:04:57.550718Z"
    },
    "papermill": {
     "duration": 1.355114,
     "end_time": "2023-04-20T18:04:57.555234",
     "exception": false,
     "start_time": "2023-04-20T18:04:56.200120",
     "status": "completed"
    },
    "tags": []
   },
   "outputs": [
    {
     "name": "stdout",
     "output_type": "stream",
     "text": [
      "Setup Complete\n"
     ]
    }
   ],
   "source": [
    "\n",
    "import pandas as pd\n",
    "pd.plotting.register_matplotlib_converters()\n",
    "import matplotlib.pyplot as plt\n",
    "%matplotlib inline\n",
    "import seaborn as sns\n",
    "print(\"Setup Complete\")"
   ]
  },
  {
   "cell_type": "markdown",
   "id": "7a950fec",
   "metadata": {
    "papermill": {
     "duration": 0.003842,
     "end_time": "2023-04-20T18:04:57.563677",
     "exception": false,
     "start_time": "2023-04-20T18:04:57.559835",
     "status": "completed"
    },
    "tags": []
   },
   "source": [
    "# Select a dataset\n",
    "\n",
    "We'll work with a dataset of 150 different flowers, or 50 each from three different species of iris (*Iris setosa*, *Iris versicolor*, and *Iris virginica*).\n",
    "\n",
    "![tut4_iris](https://storage.googleapis.com/kaggle-media/learn/images/RcxYYBA.png)\n",
    "\n",
    "# Load and examine the data\n",
    "\n",
    "Each row in the dataset corresponds to a different flower.  There are four measurements: the sepal length and width, along with the petal length and width.  We also keep track of the corresponding species. "
   ]
  },
  {
   "cell_type": "code",
   "execution_count": 2,
   "id": "5d63dfa3",
   "metadata": {
    "execution": {
     "iopub.execute_input": "2023-04-20T18:04:57.574267Z",
     "iopub.status.busy": "2023-04-20T18:04:57.573276Z",
     "iopub.status.idle": "2023-04-20T18:04:57.630696Z",
     "shell.execute_reply": "2023-04-20T18:04:57.629441Z"
    },
    "papermill": {
     "duration": 0.065659,
     "end_time": "2023-04-20T18:04:57.633469",
     "exception": false,
     "start_time": "2023-04-20T18:04:57.567810",
     "status": "completed"
    },
    "tags": []
   },
   "outputs": [
    {
     "data": {
      "text/html": [
       "<div>\n",
       "<style scoped>\n",
       "    .dataframe tbody tr th:only-of-type {\n",
       "        vertical-align: middle;\n",
       "    }\n",
       "\n",
       "    .dataframe tbody tr th {\n",
       "        vertical-align: top;\n",
       "    }\n",
       "\n",
       "    .dataframe thead th {\n",
       "        text-align: right;\n",
       "    }\n",
       "</style>\n",
       "<table border=\"1\" class=\"dataframe\">\n",
       "  <thead>\n",
       "    <tr style=\"text-align: right;\">\n",
       "      <th></th>\n",
       "      <th>Sepal Length (cm)</th>\n",
       "      <th>Sepal Width (cm)</th>\n",
       "      <th>Petal Length (cm)</th>\n",
       "      <th>Petal Width (cm)</th>\n",
       "      <th>Species</th>\n",
       "    </tr>\n",
       "    <tr>\n",
       "      <th>Id</th>\n",
       "      <th></th>\n",
       "      <th></th>\n",
       "      <th></th>\n",
       "      <th></th>\n",
       "      <th></th>\n",
       "    </tr>\n",
       "  </thead>\n",
       "  <tbody>\n",
       "    <tr>\n",
       "      <th>1</th>\n",
       "      <td>5.1</td>\n",
       "      <td>3.5</td>\n",
       "      <td>1.4</td>\n",
       "      <td>0.2</td>\n",
       "      <td>Iris-setosa</td>\n",
       "    </tr>\n",
       "    <tr>\n",
       "      <th>2</th>\n",
       "      <td>4.9</td>\n",
       "      <td>3.0</td>\n",
       "      <td>1.4</td>\n",
       "      <td>0.2</td>\n",
       "      <td>Iris-setosa</td>\n",
       "    </tr>\n",
       "    <tr>\n",
       "      <th>3</th>\n",
       "      <td>4.7</td>\n",
       "      <td>3.2</td>\n",
       "      <td>1.3</td>\n",
       "      <td>0.2</td>\n",
       "      <td>Iris-setosa</td>\n",
       "    </tr>\n",
       "    <tr>\n",
       "      <th>4</th>\n",
       "      <td>4.6</td>\n",
       "      <td>3.1</td>\n",
       "      <td>1.5</td>\n",
       "      <td>0.2</td>\n",
       "      <td>Iris-setosa</td>\n",
       "    </tr>\n",
       "    <tr>\n",
       "      <th>5</th>\n",
       "      <td>5.0</td>\n",
       "      <td>3.6</td>\n",
       "      <td>1.4</td>\n",
       "      <td>0.2</td>\n",
       "      <td>Iris-setosa</td>\n",
       "    </tr>\n",
       "  </tbody>\n",
       "</table>\n",
       "</div>"
      ],
      "text/plain": [
       "    Sepal Length (cm)  Sepal Width (cm)  Petal Length (cm)  Petal Width (cm)  \\\n",
       "Id                                                                             \n",
       "1                 5.1               3.5                1.4               0.2   \n",
       "2                 4.9               3.0                1.4               0.2   \n",
       "3                 4.7               3.2                1.3               0.2   \n",
       "4                 4.6               3.1                1.5               0.2   \n",
       "5                 5.0               3.6                1.4               0.2   \n",
       "\n",
       "        Species  \n",
       "Id               \n",
       "1   Iris-setosa  \n",
       "2   Iris-setosa  \n",
       "3   Iris-setosa  \n",
       "4   Iris-setosa  \n",
       "5   Iris-setosa  "
      ]
     },
     "execution_count": 2,
     "metadata": {},
     "output_type": "execute_result"
    }
   ],
   "source": [
    "# Path of the file to read\n",
    "iris_filepath = \"../input/iris.csv\"\n",
    "\n",
    "# Read the file into a variable iris_data\n",
    "iris_data = pd.read_csv(iris_filepath, index_col=\"Id\")\n",
    "\n",
    "# Print the first 5 rows of the data\n",
    "iris_data.head()"
   ]
  },
  {
   "cell_type": "markdown",
   "id": "1c2bc0c4",
   "metadata": {
    "papermill": {
     "duration": 0.004263,
     "end_time": "2023-04-20T18:04:57.642238",
     "exception": false,
     "start_time": "2023-04-20T18:04:57.637975",
     "status": "completed"
    },
    "tags": []
   },
   "source": [
    "# Histograms\n",
    "\n",
    "Say we would like to create a **histogram** to see how petal length varies in iris flowers.  We can do this with the `sns.histplot` command.  "
   ]
  },
  {
   "cell_type": "code",
   "execution_count": 3,
   "id": "d923874c",
   "metadata": {
    "execution": {
     "iopub.execute_input": "2023-04-20T18:04:57.652959Z",
     "iopub.status.busy": "2023-04-20T18:04:57.652543Z",
     "iopub.status.idle": "2023-04-20T18:04:57.962383Z",
     "shell.execute_reply": "2023-04-20T18:04:57.960953Z"
    },
    "papermill": {
     "duration": 0.318878,
     "end_time": "2023-04-20T18:04:57.965580",
     "exception": false,
     "start_time": "2023-04-20T18:04:57.646702",
     "status": "completed"
    },
    "tags": []
   },
   "outputs": [
    {
     "data": {
      "text/plain": [
       "<Axes: xlabel='Petal Length (cm)', ylabel='Count'>"
      ]
     },
     "execution_count": 3,
     "metadata": {},
     "output_type": "execute_result"
    },
    {
     "data": {
      "image/png": "[encoded data removed]",
      "text/plain": [
       "<Figure size 640x480 with 1 Axes>"
      ]
     },
     "metadata": {},
     "output_type": "display_data"
    }
   ],
   "source": [
    "# Histogram \n",
    "sns.histplot(iris_data['Petal Length (cm)'])"
   ]
  },
  {
   "cell_type": "markdown",
   "id": "4b3558e3",
   "metadata": {
    "papermill": {
     "duration": 0.007336,
     "end_time": "2023-04-20T18:04:59.051451",
     "exception": false,
     "start_time": "2023-04-20T18:04:59.044115",
     "status": "completed"
    },
    "tags": []
   },
   "source": [
    "# Color-coded plots\n",
    "\n",
    "For the next part of the tutorial, we'll create plots to understand differences between the species.  \n",
    "\n",
    "We can create three different histograms (one for each species) of petal length by using the `sns.histplot` command (_as above_).  \n",
    "- `data=` provides the name of the variable that we used to read in the data\n",
    "- `x=` sets the name of column with the data we want to plot\n",
    "- `hue=` sets the column we'll use to split the data into different histograms "
   ]
  },
  {
   "cell_type": "code",
   "execution_count": 6,
   "id": "142f6365",
   "metadata": {
    "execution": {
     "iopub.execute_input": "2023-04-20T18:04:59.069249Z",
     "iopub.status.busy": "2023-04-20T18:04:59.068788Z",
     "iopub.status.idle": "2023-04-20T18:04:59.418524Z",
     "shell.execute_reply": "2023-04-20T18:04:59.417545Z"
    },
    "papermill": {
     "duration": 0.361723,
     "end_time": "2023-04-20T18:04:59.420904",
     "exception": false,
     "start_time": "2023-04-20T18:04:59.059181",
     "status": "completed"
    },
    "tags": []
   },
   "outputs": [
    {
     "data": {
      "text/plain": [
       "Text(0.5, 1.0, 'Histogram of Petal Lengths, by Species')"
      ]
     },
     "execution_count": 6,
     "metadata": {},
     "output_type": "execute_result"
    },
    {
     "data": {
      "image/png": "[encoded data removed]",
      "text/plain": [
       "<Figure size 640x480 with 1 Axes>"
      ]
     },
     "metadata": {},
     "output_type": "display_data"
    }
   ],
   "source": [
    "# Histograms for each species\n",
    "sns.histplot(data=iris_data, x='Petal Length (cm)', hue='Species')\n",
    "\n",
    "# Add title\n",
    "plt.title(\"Histogram of Petal Lengths, by Species\")"
   ]
  },
  {
   "cell_type": "markdown",
   "id": "6e43bb8b",
   "metadata": {
    "papermill": {
     "duration": 0.009306,
     "end_time": "2023-04-20T18:04:59.814525",
     "exception": false,
     "start_time": "2023-04-20T18:04:59.805219",
     "status": "completed"
    },
    "tags": []
   },
   "source": [
    "One interesting pattern that can be seen in plots is that the plants seem to belong to one of two groups, where _Iris versicolor_ and _Iris virginica_ seem to have similar values for petal length, while _Iris setosa_ belongs in a category all by itself. \n",
    "\n",
    "In fact, according to this dataset, we might even be able to classify any iris plant as *Iris setosa* (as opposed to *Iris versicolor* or *Iris virginica*) just by looking at the petal length: if the petal length of an iris flower is less than 2 cm, it's most likely to be *Iris setosa*!"
   ]
  },
  {
   "cell_type": "markdown",
   "id": "cac392fc",
   "metadata": {
    "papermill": {
     "duration": 0.009649,
     "end_time": "2023-04-20T18:04:59.833536",
     "exception": false,
     "start_time": "2023-04-20T18:04:59.823887",
     "status": "completed"
    },
    "tags": []
   },
   "source": [
    "# What's next?\n",
    "\n",
    "Put your new skills to work in a **[coding exercise](https://www.kaggle.com/kernels/fork/2951534)**!"
   ]
  },
  {
   "cell_type": "markdown",
   "id": "1be9b761",
   "metadata": {
    "papermill": {
     "duration": 0.009681,
     "end_time": "2023-04-20T18:04:59.852663",
     "exception": false,
     "start_time": "2023-04-20T18:04:59.842982",
     "status": "completed"
    },
    "tags": []
   },
   "source": [
    "---\n",
    "\n",
    "\n",
    "\n",
    "\n",
    "*Have questions or comments? Visit the [course discussion forum](https://www.kaggle.com/learn/data-visualization/discussion) to chat with other learners.*"
   ]
  }
 ],
 "metadata": {
  "kernelspec": {
   "display_name": "Python 3",
   "language": "python",
   "name": "python3"
  },
  "language_info": {
   "codemirror_mode": {
    "name": "ipython",
    "version": 3
   },
   "file_extension": ".py",
   "mimetype": "text/x-python",
   "name": "python",
   "nbconvert_exporter": "python",
   "pygments_lexer": "ipython3",
   "version": "3.11.5"
  },
  "papermill": {
   "default_parameters": {},
   "duration": 16.369522,
   "end_time": "2023-04-20T18:05:00.686263",
   "environment_variables": {},
   "exception": null,
   "input_path": "__notebook__.ipynb",
   "output_path": "__notebook__.ipynb",
   "parameters": {},
   "start_time": "2023-04-20T18:04:44.316741",
   "version": "2.4.0"
  }
 },
 "nbformat": 4,
 "nbformat_minor": 5
}
