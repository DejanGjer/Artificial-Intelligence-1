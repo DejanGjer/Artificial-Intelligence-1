{
 "cells": [
  {
   "cell_type": "markdown",
   "id": "032803de",
   "metadata": {
    "papermill": {
     "duration": 0.011043,
     "end_time": "2023-04-21T13:39:59.854678",
     "exception": false,
     "start_time": "2023-04-21T13:39:59.843635",
     "status": "completed"
    },
    "tags": []
   },
   "source": [
    "# Introduction\n",
    "\n",
    "Selecting specific values of a pandas DataFrame or Series to work on is an implicit step in almost any data operation you'll run, so one of the first things you need to learn in working with data in Python is how to go about selecting the data points relevant to you quickly and effectively."
   ]
  },
  {
   "cell_type": "code",
   "execution_count": null,
   "id": "c7258e7c",
   "metadata": {
    "_kg_hide-input": true,
    "execution": {
     "iopub.execute_input": "2023-04-21T13:39:59.879088Z",
     "iopub.status.busy": "2023-04-21T13:39:59.878611Z",
     "iopub.status.idle": "2023-04-21T13:40:01.756509Z",
     "shell.execute_reply": "2023-04-21T13:40:01.754977Z"
    },
    "papermill": {
     "duration": 1.895048,
     "end_time": "2023-04-21T13:40:01.760049",
     "exception": false,
     "start_time": "2023-04-21T13:39:59.865001",
     "status": "completed"
    },
    "tags": []
   },
   "outputs": [],
   "source": [
    "\n",
    "import pandas as pd\n",
    "reviews = pd.read_csv(\"../input/wine-reviews/winemag-data-130k-v2.csv\", index_col=0)\n",
    "pd.set_option('display.max_rows', 5)"
   ]
  },
  {
   "cell_type": "markdown",
   "id": "4dce4977",
   "metadata": {
    "papermill": {
     "duration": 0.009487,
     "end_time": "2023-04-21T13:40:01.780230",
     "exception": false,
     "start_time": "2023-04-21T13:40:01.770743",
     "status": "completed"
    },
    "tags": []
   },
   "source": [
    "**To start the exercise for this topic, please click [here](https://www.kaggle.com/kernels/fork/587910).**"
   ]
  },
  {
   "cell_type": "markdown",
   "id": "21790634",
   "metadata": {
    "papermill": {
     "duration": 0.011109,
     "end_time": "2023-04-21T13:40:01.800875",
     "exception": false,
     "start_time": "2023-04-21T13:40:01.789766",
     "status": "completed"
    },
    "tags": []
   },
   "source": [
    "# Native accessors\n",
    "\n",
    "Native Python objects provide  good ways of indexing data. Pandas carries all of these over, which helps make it easy to start with.\n",
    "\n",
    "Consider this DataFrame:"
   ]
  },
  {
   "cell_type": "code",
   "execution_count": null,
   "id": "9cae9441",
   "metadata": {
    "collapsed": true,
    "execution": {
     "iopub.execute_input": "2023-04-21T13:40:01.821882Z",
     "iopub.status.busy": "2023-04-21T13:40:01.821343Z",
     "iopub.status.idle": "2023-04-21T13:40:01.860216Z",
     "shell.execute_reply": "2023-04-21T13:40:01.858805Z"
    },
    "jupyter": {
     "outputs_hidden": true
    },
    "papermill": {
     "duration": 0.052622,
     "end_time": "2023-04-21T13:40:01.863059",
     "exception": false,
     "start_time": "2023-04-21T13:40:01.810437",
     "status": "completed"
    },
    "tags": []
   },
   "outputs": [],
   "source": [
    "reviews"
   ]
  },
  {
   "cell_type": "markdown",
   "id": "8fb3af90",
   "metadata": {
    "papermill": {
     "duration": 0.009963,
     "end_time": "2023-04-21T13:40:01.884193",
     "exception": false,
     "start_time": "2023-04-21T13:40:01.874230",
     "status": "completed"
    },
    "tags": []
   },
   "source": [
    "In Python, we can access the property of an object by accessing it as an attribute. A `book` object, for example, might have a `title` property, which we can access by calling `book.title`. Columns in a pandas DataFrame work in much the same way. \n",
    "\n",
    "Hence to access the `country` property of `reviews` we can use:"
   ]
  },
  {
   "cell_type": "code",
   "execution_count": null,
   "id": "8a0d984c",
   "metadata": {
    "collapsed": true,
    "execution": {
     "iopub.execute_input": "2023-04-21T13:40:01.907078Z",
     "iopub.status.busy": "2023-04-21T13:40:01.906268Z",
     "iopub.status.idle": "2023-04-21T13:40:01.920827Z",
     "shell.execute_reply": "2023-04-21T13:40:01.919291Z"
    },
    "jupyter": {
     "outputs_hidden": true
    },
    "papermill": {
     "duration": 0.029059,
     "end_time": "2023-04-21T13:40:01.923806",
     "exception": false,
     "start_time": "2023-04-21T13:40:01.894747",
     "status": "completed"
    },
    "tags": []
   },
   "outputs": [],
   "source": [
    "reviews.country"
   ]
  },
  {
   "cell_type": "markdown",
   "id": "3f371185",
   "metadata": {
    "papermill": {
     "duration": 0.010434,
     "end_time": "2023-04-21T13:40:01.945239",
     "exception": false,
     "start_time": "2023-04-21T13:40:01.934805",
     "status": "completed"
    },
    "tags": []
   },
   "source": [
    "If we have a Python dictionary, we can access its values using the indexing (`[]`) operator. We can do the same with columns in a DataFrame:"
   ]
  },
  {
   "cell_type": "code",
   "execution_count": null,
   "id": "e3d9f79c",
   "metadata": {
    "collapsed": true,
    "execution": {
     "iopub.execute_input": "2023-04-21T13:40:01.968038Z",
     "iopub.status.busy": "2023-04-21T13:40:01.967598Z",
     "iopub.status.idle": "2023-04-21T13:40:01.977796Z",
     "shell.execute_reply": "2023-04-21T13:40:01.976328Z"
    },
    "jupyter": {
     "outputs_hidden": true
    },
    "papermill": {
     "duration": 0.02508,
     "end_time": "2023-04-21T13:40:01.980903",
     "exception": false,
     "start_time": "2023-04-21T13:40:01.955823",
     "status": "completed"
    },
    "tags": []
   },
   "outputs": [],
   "source": [
    "reviews['country']"
   ]
  },
  {
   "cell_type": "markdown",
   "id": "77febb9c",
   "metadata": {
    "papermill": {
     "duration": 0.011573,
     "end_time": "2023-04-21T13:40:02.003854",
     "exception": false,
     "start_time": "2023-04-21T13:40:01.992281",
     "status": "completed"
    },
    "tags": []
   },
   "source": [
    "These are the two ways of selecting a specific Series out of a DataFrame. Neither of them is more or less syntactically valid than the other, but the indexing operator `[]` does have the advantage that it can handle column names with reserved characters in them (e.g. if we had a `country providence` column, `reviews.country providence` wouldn't work).\n",
    "\n",
    "Doesn't a pandas Series look kind of like a fancy dictionary? It pretty much is, so it's no surprise that, to drill down to a single specific value, we need only use the indexing operator `[]` once more:"
   ]
  },
  {
   "cell_type": "code",
   "execution_count": null,
   "id": "6e9da487",
   "metadata": {
    "collapsed": true,
    "execution": {
     "iopub.execute_input": "2023-04-21T13:40:02.026445Z",
     "iopub.status.busy": "2023-04-21T13:40:02.025627Z",
     "iopub.status.idle": "2023-04-21T13:40:02.036730Z",
     "shell.execute_reply": "2023-04-21T13:40:02.035246Z"
    },
    "jupyter": {
     "outputs_hidden": true
    },
    "papermill": {
     "duration": 0.025743,
     "end_time": "2023-04-21T13:40:02.039692",
     "exception": false,
     "start_time": "2023-04-21T13:40:02.013949",
     "status": "completed"
    },
    "tags": []
   },
   "outputs": [],
   "source": [
    "reviews['country'][0]"
   ]
  },
  {
   "cell_type": "markdown",
   "id": "ab15ab45",
   "metadata": {
    "papermill": {
     "duration": 0.009964,
     "end_time": "2023-04-21T13:40:02.060525",
     "exception": false,
     "start_time": "2023-04-21T13:40:02.050561",
     "status": "completed"
    },
    "tags": []
   },
   "source": [
    "# Indexing in pandas\n",
    "\n",
    "The indexing operator and attribute selection are nice because they work just like they do in the rest of the Python ecosystem. As a novice, this makes them easy to pick up and use. However, pandas has its own accessor operators, `loc` and `iloc`. For more advanced operations, these are the ones you're supposed to be using.\n",
    "\n",
    "### Index-based selection\n",
    "\n",
    "Pandas indexing works in one of two paradigms. The first is **index-based selection**: selecting data based on its numerical position in the data. `iloc` follows this paradigm.\n",
    "\n",
    "To select the first row of data in a DataFrame, we may use the following:"
   ]
  },
  {
   "cell_type": "code",
   "execution_count": null,
   "id": "d8a05be1",
   "metadata": {
    "collapsed": true,
    "execution": {
     "iopub.execute_input": "2023-04-21T13:40:02.086708Z",
     "iopub.status.busy": "2023-04-21T13:40:02.086018Z",
     "iopub.status.idle": "2023-04-21T13:40:02.096828Z",
     "shell.execute_reply": "2023-04-21T13:40:02.094663Z"
    },
    "jupyter": {
     "outputs_hidden": true
    },
    "papermill": {
     "duration": 0.029593,
     "end_time": "2023-04-21T13:40:02.100878",
     "exception": false,
     "start_time": "2023-04-21T13:40:02.071285",
     "status": "completed"
    },
    "tags": []
   },
   "outputs": [],
   "source": [
    "reviews.iloc[0]"
   ]
  },
  {
   "cell_type": "markdown",
   "id": "bf82ae69",
   "metadata": {
    "papermill": {
     "duration": 0.013796,
     "end_time": "2023-04-21T13:40:02.128614",
     "exception": false,
     "start_time": "2023-04-21T13:40:02.114818",
     "status": "completed"
    },
    "tags": []
   },
   "source": [
    "Both `loc` and `iloc` are row-first, column-second. This is the opposite of what we do in native Python, which is column-first, row-second.\n",
    "\n",
    "This means that it's marginally easier to retrieve rows, and marginally harder to get retrieve columns. To get a column with `iloc`, we can do the following:"
   ]
  },
  {
   "cell_type": "code",
   "execution_count": null,
   "id": "e4a95c18",
   "metadata": {
    "collapsed": true,
    "execution": {
     "iopub.execute_input": "2023-04-21T13:40:02.153189Z",
     "iopub.status.busy": "2023-04-21T13:40:02.152411Z",
     "iopub.status.idle": "2023-04-21T13:40:02.164122Z",
     "shell.execute_reply": "2023-04-21T13:40:02.162760Z"
    },
    "jupyter": {
     "outputs_hidden": true
    },
    "papermill": {
     "duration": 0.026958,
     "end_time": "2023-04-21T13:40:02.167101",
     "exception": false,
     "start_time": "2023-04-21T13:40:02.140143",
     "status": "completed"
    },
    "tags": []
   },
   "outputs": [],
   "source": [
    "reviews.iloc[:, 0]"
   ]
  },
  {
   "cell_type": "markdown",
   "id": "ce84a416",
   "metadata": {
    "papermill": {
     "duration": 0.012425,
     "end_time": "2023-04-21T13:40:02.191080",
     "exception": false,
     "start_time": "2023-04-21T13:40:02.178655",
     "status": "completed"
    },
    "tags": []
   },
   "source": [
    "On its own, the `:` operator, which also comes from native Python, means \"everything\". When combined with other selectors, however, it can be used to indicate a range of values. For example, to select the `country` column from just the first, second, and third row, we would do:"
   ]
  },
  {
   "cell_type": "code",
   "execution_count": null,
   "id": "3d4efd16",
   "metadata": {
    "collapsed": true,
    "execution": {
     "iopub.execute_input": "2023-04-21T13:40:02.223159Z",
     "iopub.status.busy": "2023-04-21T13:40:02.222291Z",
     "iopub.status.idle": "2023-04-21T13:40:02.231773Z",
     "shell.execute_reply": "2023-04-21T13:40:02.230435Z"
    },
    "jupyter": {
     "outputs_hidden": true
    },
    "papermill": {
     "duration": 0.031849,
     "end_time": "2023-04-21T13:40:02.236215",
     "exception": false,
     "start_time": "2023-04-21T13:40:02.204366",
     "status": "completed"
    },
    "tags": []
   },
   "outputs": [],
   "source": [
    "reviews.iloc[:3, 0]"
   ]
  },
  {
   "cell_type": "markdown",
   "id": "4da2df1d",
   "metadata": {
    "papermill": {
     "duration": 0.014772,
     "end_time": "2023-04-21T13:40:02.267973",
     "exception": false,
     "start_time": "2023-04-21T13:40:02.253201",
     "status": "completed"
    },
    "tags": []
   },
   "source": [
    "Or, to select just the second and third entries, we would do:"
   ]
  },
  {
   "cell_type": "code",
   "execution_count": null,
   "id": "13d8f773",
   "metadata": {
    "collapsed": true,
    "execution": {
     "iopub.execute_input": "2023-04-21T13:40:02.294293Z",
     "iopub.status.busy": "2023-04-21T13:40:02.293704Z",
     "iopub.status.idle": "2023-04-21T13:40:02.304480Z",
     "shell.execute_reply": "2023-04-21T13:40:02.303161Z"
    },
    "jupyter": {
     "outputs_hidden": true
    },
    "papermill": {
     "duration": 0.027492,
     "end_time": "2023-04-21T13:40:02.307091",
     "exception": false,
     "start_time": "2023-04-21T13:40:02.279599",
     "status": "completed"
    },
    "tags": []
   },
   "outputs": [],
   "source": [
    "reviews.iloc[1:3, 0]"
   ]
  },
  {
   "cell_type": "markdown",
   "id": "dc59b9ae",
   "metadata": {
    "papermill": {
     "duration": 0.0126,
     "end_time": "2023-04-21T13:40:02.331559",
     "exception": false,
     "start_time": "2023-04-21T13:40:02.318959",
     "status": "completed"
    },
    "tags": []
   },
   "source": [
    "It's also possible to pass a list:"
   ]
  },
  {
   "cell_type": "code",
   "execution_count": null,
   "id": "7c93cf1f",
   "metadata": {
    "collapsed": true,
    "execution": {
     "iopub.execute_input": "2023-04-21T13:40:02.355680Z",
     "iopub.status.busy": "2023-04-21T13:40:02.355266Z",
     "iopub.status.idle": "2023-04-21T13:40:02.367737Z",
     "shell.execute_reply": "2023-04-21T13:40:02.366363Z"
    },
    "jupyter": {
     "outputs_hidden": true
    },
    "papermill": {
     "duration": 0.028703,
     "end_time": "2023-04-21T13:40:02.371443",
     "exception": false,
     "start_time": "2023-04-21T13:40:02.342740",
     "status": "completed"
    },
    "tags": []
   },
   "outputs": [],
   "source": [
    "reviews.iloc[[0, 1, 2], 0]"
   ]
  },
  {
   "cell_type": "markdown",
   "id": "ad33fe3f",
   "metadata": {
    "papermill": {
     "duration": 0.017054,
     "end_time": "2023-04-21T13:40:02.405497",
     "exception": false,
     "start_time": "2023-04-21T13:40:02.388443",
     "status": "completed"
    },
    "tags": []
   },
   "source": [
    "Finally, it's worth knowing that negative numbers can be used in selection. This will start counting forwards from the _end_ of the values. So for example here are the last five elements of the dataset."
   ]
  },
  {
   "cell_type": "code",
   "execution_count": null,
   "id": "ecff94b7",
   "metadata": {
    "collapsed": true,
    "execution": {
     "iopub.execute_input": "2023-04-21T13:40:02.430712Z",
     "iopub.status.busy": "2023-04-21T13:40:02.430158Z",
     "iopub.status.idle": "2023-04-21T13:40:02.450747Z",
     "shell.execute_reply": "2023-04-21T13:40:02.449269Z"
    },
    "jupyter": {
     "outputs_hidden": true
    },
    "papermill": {
     "duration": 0.036463,
     "end_time": "2023-04-21T13:40:02.453711",
     "exception": false,
     "start_time": "2023-04-21T13:40:02.417248",
     "status": "completed"
    },
    "tags": []
   },
   "outputs": [],
   "source": [
    "reviews.iloc[-5:]"
   ]
  },
  {
   "cell_type": "markdown",
   "id": "ff4fc268",
   "metadata": {
    "papermill": {
     "duration": 0.011186,
     "end_time": "2023-04-21T13:40:02.476771",
     "exception": false,
     "start_time": "2023-04-21T13:40:02.465585",
     "status": "completed"
    },
    "tags": []
   },
   "source": [
    "### Label-based selection\n",
    "\n",
    "The second paradigm for attribute selection is the one followed by the `loc` operator: **label-based selection**. In this paradigm, it's the data index value, not its position, which matters.\n",
    "\n",
    "For example, to get the first entry in `reviews`, we would now do the following:"
   ]
  },
  {
   "cell_type": "code",
   "execution_count": null,
   "id": "17af7c06",
   "metadata": {
    "collapsed": true,
    "execution": {
     "iopub.execute_input": "2023-04-21T13:40:02.503336Z",
     "iopub.status.busy": "2023-04-21T13:40:02.502875Z",
     "iopub.status.idle": "2023-04-21T13:40:02.512380Z",
     "shell.execute_reply": "2023-04-21T13:40:02.511085Z"
    },
    "jupyter": {
     "outputs_hidden": true
    },
    "papermill": {
     "duration": 0.027935,
     "end_time": "2023-04-21T13:40:02.516823",
     "exception": false,
     "start_time": "2023-04-21T13:40:02.488888",
     "status": "completed"
    },
    "tags": []
   },
   "outputs": [],
   "source": [
    "reviews.loc[0, 'country']"
   ]
  },
  {
   "cell_type": "markdown",
   "id": "a92d7fda",
   "metadata": {
    "papermill": {
     "duration": 0.013591,
     "end_time": "2023-04-21T13:40:02.549309",
     "exception": false,
     "start_time": "2023-04-21T13:40:02.535718",
     "status": "completed"
    },
    "tags": []
   },
   "source": [
    "`iloc` is conceptually simpler than `loc` because it ignores the dataset's indices. When we use `iloc` we treat the dataset like a big matrix (a list of lists), one that we have to index into by position. `loc`, by contrast, uses the information in the indices to do its work. Since your dataset usually has meaningful indices, it's usually easier to do things using `loc` instead. For example, here's one operation that's much easier using `loc`:"
   ]
  },
  {
   "cell_type": "code",
   "execution_count": null,
   "id": "daa5eb85",
   "metadata": {
    "collapsed": true,
    "execution": {
     "iopub.execute_input": "2023-04-21T13:40:02.578984Z",
     "iopub.status.busy": "2023-04-21T13:40:02.578175Z",
     "iopub.status.idle": "2023-04-21T13:40:02.595919Z",
     "shell.execute_reply": "2023-04-21T13:40:02.594891Z"
    },
    "jupyter": {
     "outputs_hidden": true
    },
    "papermill": {
     "duration": 0.035797,
     "end_time": "2023-04-21T13:40:02.599293",
     "exception": false,
     "start_time": "2023-04-21T13:40:02.563496",
     "status": "completed"
    },
    "tags": []
   },
   "outputs": [],
   "source": [
    "reviews.loc[:, ['taster_name', 'taster_twitter_handle', 'points']]"
   ]
  },
  {
   "cell_type": "markdown",
   "id": "76247342",
   "metadata": {
    "papermill": {
     "duration": 0.012153,
     "end_time": "2023-04-21T13:40:02.628704",
     "exception": false,
     "start_time": "2023-04-21T13:40:02.616551",
     "status": "completed"
    },
    "tags": []
   },
   "source": [
    "### Choosing between `loc` and `iloc`\n",
    "\n",
    "When choosing or transitioning between `loc` and `iloc`, there is one \"gotcha\" worth keeping in mind, which is that the two methods use slightly different indexing schemes.\n",
    "\n",
    "`iloc` uses the Python stdlib indexing scheme, where the first element of the range is included and the last one excluded. So `0:10` will select entries `0,...,9`. `loc`, meanwhile, indexes inclusively. So `0:10` will select entries `0,...,10`.\n",
    "\n",
    "Why the change? Remember that loc can index any stdlib type: strings, for example. If we have a DataFrame with index values `Apples, ..., Potatoes, ...`, and we want to select \"all the alphabetical fruit choices between Apples and Potatoes\", then it's a lot more convenient to index `df.loc['Apples':'Potatoes']` than it is to index something like `df.loc['Apples', 'Potatoet']` (`t` coming after `s` in the alphabet).\n",
    "\n",
    "This is particularly confusing when the DataFrame index is a simple numerical list, e.g. `0,...,1000`. In this case `df.iloc[0:1000]` will return 1000 entries, while `df.loc[0:1000]` return 1001 of them! To get 1000 elements using `loc`, you will need to go one lower and ask for `df.loc[0:999]`. \n",
    "\n",
    "Otherwise, the semantics of using `loc` are the same as those for `iloc`."
   ]
  },
  {
   "cell_type": "markdown",
   "id": "17539e2c",
   "metadata": {
    "papermill": {
     "duration": 0.011633,
     "end_time": "2023-04-21T13:40:02.652613",
     "exception": false,
     "start_time": "2023-04-21T13:40:02.640980",
     "status": "completed"
    },
    "tags": []
   },
   "source": [
    "# Manipulating the index\n",
    "\n",
    "Label-based selection derives its power from the labels in the index. Critically, the index we use is not immutable. We can manipulate the index in any way we see fit.\n",
    "\n",
    "The `set_index()` method can be used to do the job. Here is what happens when we `set_index` to the `title` field:"
   ]
  },
  {
   "cell_type": "code",
   "execution_count": null,
   "id": "302089be",
   "metadata": {
    "collapsed": true,
    "execution": {
     "iopub.execute_input": "2023-04-21T13:40:02.679960Z",
     "iopub.status.busy": "2023-04-21T13:40:02.678619Z",
     "iopub.status.idle": "2023-04-21T13:40:02.738765Z",
     "shell.execute_reply": "2023-04-21T13:40:02.737368Z"
    },
    "jupyter": {
     "outputs_hidden": true
    },
    "papermill": {
     "duration": 0.07698,
     "end_time": "2023-04-21T13:40:02.741674",
     "exception": false,
     "start_time": "2023-04-21T13:40:02.664694",
     "status": "completed"
    },
    "tags": []
   },
   "outputs": [],
   "source": [
    "reviews.set_index(\"title\")"
   ]
  },
  {
   "cell_type": "markdown",
   "id": "38dc4233",
   "metadata": {
    "papermill": {
     "duration": 0.012499,
     "end_time": "2023-04-21T13:40:02.768053",
     "exception": false,
     "start_time": "2023-04-21T13:40:02.755554",
     "status": "completed"
    },
    "tags": []
   },
   "source": [
    "This is useful if you can come up with an index for the dataset which is better than the current one."
   ]
  },
  {
   "cell_type": "markdown",
   "id": "ff0e28a7",
   "metadata": {
    "papermill": {
     "duration": 0.013258,
     "end_time": "2023-04-21T13:40:02.795114",
     "exception": false,
     "start_time": "2023-04-21T13:40:02.781856",
     "status": "completed"
    },
    "tags": []
   },
   "source": [
    "# Conditional selection\n",
    "\n",
    "So far we've been indexing various strides of data, using structural properties of the DataFrame itself. To do *interesting* things with the data, however, we often need to ask questions based on conditions. \n",
    "\n",
    "For example, suppose that we're interested specifically in better-than-average wines produced in Italy.\n",
    "\n",
    "We can start by checking if each wine is Italian or not:"
   ]
  },
  {
   "cell_type": "code",
   "execution_count": null,
   "id": "1d0fbd50",
   "metadata": {
    "collapsed": true,
    "execution": {
     "iopub.execute_input": "2023-04-21T13:40:02.823987Z",
     "iopub.status.busy": "2023-04-21T13:40:02.823082Z",
     "iopub.status.idle": "2023-04-21T13:40:02.843936Z",
     "shell.execute_reply": "2023-04-21T13:40:02.842545Z"
    },
    "jupyter": {
     "outputs_hidden": true
    },
    "papermill": {
     "duration": 0.037873,
     "end_time": "2023-04-21T13:40:02.846709",
     "exception": false,
     "start_time": "2023-04-21T13:40:02.808836",
     "status": "completed"
    },
    "tags": []
   },
   "outputs": [],
   "source": [
    "reviews.country == 'Italy'"
   ]
  },
  {
   "cell_type": "markdown",
   "id": "c35232eb",
   "metadata": {
    "papermill": {
     "duration": 0.012764,
     "end_time": "2023-04-21T13:40:02.872241",
     "exception": false,
     "start_time": "2023-04-21T13:40:02.859477",
     "status": "completed"
    },
    "tags": []
   },
   "source": [
    "This operation produced a Series of `True`/`False` booleans based on the `country` of each record.  This result can then be used inside of `loc` to select the relevant data:"
   ]
  },
  {
   "cell_type": "code",
   "execution_count": null,
   "id": "fc429d2b",
   "metadata": {
    "collapsed": true,
    "execution": {
     "iopub.execute_input": "2023-04-21T13:40:02.900810Z",
     "iopub.status.busy": "2023-04-21T13:40:02.899784Z",
     "iopub.status.idle": "2023-04-21T13:40:02.944090Z",
     "shell.execute_reply": "2023-04-21T13:40:02.942722Z"
    },
    "jupyter": {
     "outputs_hidden": true
    },
    "papermill": {
     "duration": 0.062255,
     "end_time": "2023-04-21T13:40:02.947534",
     "exception": false,
     "start_time": "2023-04-21T13:40:02.885279",
     "status": "completed"
    },
    "tags": []
   },
   "outputs": [],
   "source": [
    "reviews.loc[reviews.country == 'Italy']"
   ]
  },
  {
   "cell_type": "markdown",
   "id": "52adb5b5",
   "metadata": {
    "papermill": {
     "duration": 0.013379,
     "end_time": "2023-04-21T13:40:02.974267",
     "exception": false,
     "start_time": "2023-04-21T13:40:02.960888",
     "status": "completed"
    },
    "tags": []
   },
   "source": [
    "This DataFrame has ~20,000 rows. The original had ~130,000. That means that around 15% of wines originate from Italy.\n",
    "\n",
    "We also wanted to know which ones are better than average. Wines are reviewed on a 80-to-100 point scale, so this could mean wines that accrued at least 90 points.\n",
    "\n",
    "We can use the ampersand (`&`) to bring the two questions together:"
   ]
  },
  {
   "cell_type": "code",
   "execution_count": null,
   "id": "eda4a279",
   "metadata": {
    "collapsed": true,
    "execution": {
     "iopub.execute_input": "2023-04-21T13:40:03.003993Z",
     "iopub.status.busy": "2023-04-21T13:40:03.002522Z",
     "iopub.status.idle": "2023-04-21T13:40:03.045376Z",
     "shell.execute_reply": "2023-04-21T13:40:03.044005Z"
    },
    "jupyter": {
     "outputs_hidden": true
    },
    "papermill": {
     "duration": 0.060998,
     "end_time": "2023-04-21T13:40:03.048216",
     "exception": false,
     "start_time": "2023-04-21T13:40:02.987218",
     "status": "completed"
    },
    "tags": []
   },
   "outputs": [],
   "source": [
    "reviews.loc[(reviews.country == 'Italy') & (reviews.points >= 90)]"
   ]
  },
  {
   "cell_type": "markdown",
   "id": "5525f631",
   "metadata": {
    "papermill": {
     "duration": 0.014772,
     "end_time": "2023-04-21T13:40:03.076845",
     "exception": false,
     "start_time": "2023-04-21T13:40:03.062073",
     "status": "completed"
    },
    "tags": []
   },
   "source": [
    "Suppose we'll buy any wine that's made in Italy _or_ which is rated above average. For this we use a pipe (`|`):"
   ]
  },
  {
   "cell_type": "code",
   "execution_count": null,
   "id": "db989751",
   "metadata": {
    "collapsed": true,
    "execution": {
     "iopub.execute_input": "2023-04-21T13:40:03.106551Z",
     "iopub.status.busy": "2023-04-21T13:40:03.105821Z",
     "iopub.status.idle": "2023-04-21T13:40:03.159723Z",
     "shell.execute_reply": "2023-04-21T13:40:03.158236Z"
    },
    "jupyter": {
     "outputs_hidden": true
    },
    "papermill": {
     "duration": 0.071786,
     "end_time": "2023-04-21T13:40:03.162473",
     "exception": false,
     "start_time": "2023-04-21T13:40:03.090687",
     "status": "completed"
    },
    "tags": []
   },
   "outputs": [],
   "source": [
    "reviews.loc[(reviews.country == 'Italy') | (reviews.points >= 90)]"
   ]
  },
  {
   "cell_type": "markdown",
   "id": "478e8cfc",
   "metadata": {
    "papermill": {
     "duration": 0.014802,
     "end_time": "2023-04-21T13:40:03.191603",
     "exception": false,
     "start_time": "2023-04-21T13:40:03.176801",
     "status": "completed"
    },
    "tags": []
   },
   "source": [
    "Pandas comes with a few built-in conditional selectors, two of which we will highlight here. \n",
    "\n",
    "The first is `isin`. `isin` is lets you select data whose value \"is in\" a list of values. For example, here's how we can use it to select wines only from Italy or France:"
   ]
  },
  {
   "cell_type": "code",
   "execution_count": null,
   "id": "a9162521",
   "metadata": {
    "collapsed": true,
    "execution": {
     "iopub.execute_input": "2023-04-21T13:40:03.225842Z",
     "iopub.status.busy": "2023-04-21T13:40:03.225322Z",
     "iopub.status.idle": "2023-04-21T13:40:03.265215Z",
     "shell.execute_reply": "2023-04-21T13:40:03.263661Z"
    },
    "jupyter": {
     "outputs_hidden": true
    },
    "papermill": {
     "duration": 0.061826,
     "end_time": "2023-04-21T13:40:03.268379",
     "exception": false,
     "start_time": "2023-04-21T13:40:03.206553",
     "status": "completed"
    },
    "tags": []
   },
   "outputs": [],
   "source": [
    "reviews.loc[reviews.country.isin(['Italy', 'France'])]"
   ]
  },
  {
   "cell_type": "markdown",
   "id": "2d1e2cd1",
   "metadata": {
    "papermill": {
     "duration": 0.014831,
     "end_time": "2023-04-21T13:40:03.297451",
     "exception": false,
     "start_time": "2023-04-21T13:40:03.282620",
     "status": "completed"
    },
    "tags": []
   },
   "source": [
    "The second is `isnull` (and its companion `notnull`). These methods let you highlight values which are (or are not) empty (`NaN`). For example, to filter out wines lacking a price tag in the dataset, here's what we would do:"
   ]
  },
  {
   "cell_type": "code",
   "execution_count": null,
   "id": "1c2c4d81",
   "metadata": {
    "collapsed": true,
    "execution": {
     "iopub.execute_input": "2023-04-21T13:40:03.328312Z",
     "iopub.status.busy": "2023-04-21T13:40:03.327037Z",
     "iopub.status.idle": "2023-04-21T13:40:03.379198Z",
     "shell.execute_reply": "2023-04-21T13:40:03.377838Z"
    },
    "jupyter": {
     "outputs_hidden": true
    },
    "papermill": {
     "duration": 0.070652,
     "end_time": "2023-04-21T13:40:03.382142",
     "exception": false,
     "start_time": "2023-04-21T13:40:03.311490",
     "status": "completed"
    },
    "tags": []
   },
   "outputs": [],
   "source": [
    "reviews.loc[reviews.price.notnull()]"
   ]
  },
  {
   "cell_type": "markdown",
   "id": "9bb21212",
   "metadata": {
    "papermill": {
     "duration": 0.014844,
     "end_time": "2023-04-21T13:40:03.412044",
     "exception": false,
     "start_time": "2023-04-21T13:40:03.397200",
     "status": "completed"
    },
    "tags": []
   },
   "source": [
    "# Assigning data\n",
    "\n",
    "Going the other way, assigning data to a DataFrame is easy. You can assign either a constant value:"
   ]
  },
  {
   "cell_type": "code",
   "execution_count": null,
   "id": "a1731bc9",
   "metadata": {
    "collapsed": true,
    "execution": {
     "iopub.execute_input": "2023-04-21T13:40:03.443012Z",
     "iopub.status.busy": "2023-04-21T13:40:03.442555Z",
     "iopub.status.idle": "2023-04-21T13:40:03.453729Z",
     "shell.execute_reply": "2023-04-21T13:40:03.452651Z"
    },
    "jupyter": {
     "outputs_hidden": true
    },
    "papermill": {
     "duration": 0.029949,
     "end_time": "2023-04-21T13:40:03.456557",
     "exception": false,
     "start_time": "2023-04-21T13:40:03.426608",
     "status": "completed"
    },
    "tags": []
   },
   "outputs": [],
   "source": [
    "reviews['critic'] = 'everyone'\n",
    "reviews['critic']"
   ]
  },
  {
   "cell_type": "markdown",
   "id": "479bc275",
   "metadata": {
    "papermill": {
     "duration": 0.01464,
     "end_time": "2023-04-21T13:40:03.486797",
     "exception": false,
     "start_time": "2023-04-21T13:40:03.472157",
     "status": "completed"
    },
    "tags": []
   },
   "source": [
    "Or with an iterable of values:"
   ]
  },
  {
   "cell_type": "code",
   "execution_count": null,
   "id": "98ae5c1e",
   "metadata": {
    "collapsed": true,
    "execution": {
     "iopub.execute_input": "2023-04-21T13:40:03.519451Z",
     "iopub.status.busy": "2023-04-21T13:40:03.518988Z",
     "iopub.status.idle": "2023-04-21T13:40:03.530669Z",
     "shell.execute_reply": "2023-04-21T13:40:03.529289Z"
    },
    "jupyter": {
     "outputs_hidden": true
    },
    "papermill": {
     "duration": 0.031568,
     "end_time": "2023-04-21T13:40:03.533685",
     "exception": false,
     "start_time": "2023-04-21T13:40:03.502117",
     "status": "completed"
    },
    "tags": []
   },
   "outputs": [],
   "source": [
    "reviews['index_backwards'] = range(len(reviews), 0, -1)\n",
    "reviews['index_backwards']"
   ]
  },
  {
   "cell_type": "markdown",
   "id": "9d3c56e0",
   "metadata": {
    "papermill": {
     "duration": 0.014701,
     "end_time": "2023-04-21T13:40:03.563375",
     "exception": false,
     "start_time": "2023-04-21T13:40:03.548674",
     "status": "completed"
    },
    "tags": []
   },
   "source": [
    "# Your turn\n",
    "\n",
    "If you haven't started the exercise, you can **[get started here](https://www.kaggle.com/kernels/fork/587910)**."
   ]
  },
  {
   "cell_type": "markdown",
   "id": "5de1a351",
   "metadata": {
    "papermill": {
     "duration": 0.014722,
     "end_time": "2023-04-21T13:40:03.593124",
     "exception": false,
     "start_time": "2023-04-21T13:40:03.578402",
     "status": "completed"
    },
    "tags": []
   },
   "source": [
    "---\n",
    "\n",
    "\n",
    "\n",
    "\n",
    "*Have questions or comments? Visit the [course discussion forum](https://www.kaggle.com/learn/pandas/discussion) to chat with other learners.*"
   ]
  }
 ],
 "metadata": {
  "kernelspec": {
   "display_name": "Python 3 (ipykernel)",
   "language": "python",
   "name": "python3"
  },
  "language_info": {
   "codemirror_mode": {
    "name": "ipython",
    "version": 3
   },
   "file_extension": ".py",
   "mimetype": "text/x-python",
   "name": "python",
   "nbconvert_exporter": "python",
   "pygments_lexer": "ipython3",
   "version": "3.10.13"
  },
  "papermill": {
   "default_parameters": {},
   "duration": 16.363103,
   "end_time": "2023-04-21T13:40:04.534509",
   "environment_variables": {},
   "exception": null,
   "input_path": "__notebook__.ipynb",
   "output_path": "__notebook__.ipynb",
   "parameters": {},
   "start_time": "2023-04-21T13:39:48.171406",
   "version": "2.4.0"
  }
 },
 "nbformat": 4,
 "nbformat_minor": 5
}
