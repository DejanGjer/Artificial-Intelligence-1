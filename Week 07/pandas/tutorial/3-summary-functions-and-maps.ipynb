{
 "cells": [
  {
   "cell_type": "markdown",
   "id": "d8539217",
   "metadata": {
    "papermill": {
     "duration": 0.007263,
     "end_time": "2023-04-21T13:40:15.525278",
     "exception": false,
     "start_time": "2023-04-21T13:40:15.518015",
     "status": "completed"
    },
    "tags": []
   },
   "source": [
    "# Introduction\n",
    "\n",
    "In the last tutorial, we learned how to select relevant data out of a DataFrame or Series. Plucking the right data out of our data representation is critical to getting work done, as we demonstrated in the exercises.\n",
    "\n",
    "However, the data does not always come out of memory in the format we want it in right out of the bat. Sometimes we have to do some more work ourselves to reformat it for the task at hand.  This tutorial will cover different operations we can apply to our data to get the input \"just right\". \n",
    "\n",
    "**To start the exercise for this topic, please click [here](https://www.kaggle.com/kernels/fork/595524).**\n",
    "\n",
    "We'll use the Wine Magazine data for demonstration."
   ]
  },
  {
   "cell_type": "code",
   "execution_count": null,
   "id": "4402b8ed",
   "metadata": {
    "_kg_hide-input": true,
    "execution": {
     "iopub.execute_input": "2023-04-21T13:40:15.538715Z",
     "iopub.status.busy": "2023-04-21T13:40:15.538145Z",
     "iopub.status.idle": "2023-04-21T13:40:17.450672Z",
     "shell.execute_reply": "2023-04-21T13:40:17.449373Z"
    },
    "papermill": {
     "duration": 1.922832,
     "end_time": "2023-04-21T13:40:17.454148",
     "exception": false,
     "start_time": "2023-04-21T13:40:15.531316",
     "status": "completed"
    },
    "tags": []
   },
   "outputs": [],
   "source": [
    "\n",
    "import pandas as pd\n",
    "import numpy as np\n",
    "reviews = pd.read_csv(\"../input/wine-reviews/winemag-data-130k-v2.csv\", index_col=0)"
   ]
  },
  {
   "cell_type": "code",
   "execution_count": null,
   "id": "9cd1e0fe",
   "metadata": {
    "execution": {
     "iopub.execute_input": "2023-04-21T13:40:17.467226Z",
     "iopub.status.busy": "2023-04-21T13:40:17.466788Z",
     "iopub.status.idle": "2023-04-21T13:40:17.505537Z",
     "shell.execute_reply": "2023-04-21T13:40:17.504110Z"
    },
    "papermill": {
     "duration": 0.048421,
     "end_time": "2023-04-21T13:40:17.508332",
     "exception": false,
     "start_time": "2023-04-21T13:40:17.459911",
     "status": "completed"
    },
    "tags": []
   },
   "outputs": [],
   "source": [
    "reviews.head(3)"
   ]
  },
  {
   "cell_type": "markdown",
   "id": "61e47c94",
   "metadata": {
    "papermill": {
     "duration": 0.005294,
     "end_time": "2023-04-21T13:40:17.519268",
     "exception": false,
     "start_time": "2023-04-21T13:40:17.513974",
     "status": "completed"
    },
    "tags": []
   },
   "source": [
    "# Summary functions\n",
    "\n",
    "Pandas provides many simple \"summary functions\" (not an official name) which restructure the data in some useful way. For example, consider the `describe()` method:"
   ]
  },
  {
   "cell_type": "code",
   "execution_count": null,
   "id": "def92caf",
   "metadata": {
    "execution": {
     "iopub.execute_input": "2023-04-21T13:40:17.532268Z",
     "iopub.status.busy": "2023-04-21T13:40:17.531840Z",
     "iopub.status.idle": "2023-04-21T13:40:17.555119Z",
     "shell.execute_reply": "2023-04-21T13:40:17.553726Z"
    },
    "papermill": {
     "duration": 0.033279,
     "end_time": "2023-04-21T13:40:17.558064",
     "exception": false,
     "start_time": "2023-04-21T13:40:17.524785",
     "status": "completed"
    },
    "tags": []
   },
   "outputs": [],
   "source": [
    "reviews.points.describe()"
   ]
  },
  {
   "cell_type": "markdown",
   "id": "7694bf6a",
   "metadata": {
    "papermill": {
     "duration": 0.005396,
     "end_time": "2023-04-21T13:40:17.569956",
     "exception": false,
     "start_time": "2023-04-21T13:40:17.564560",
     "status": "completed"
    },
    "tags": []
   },
   "source": [
    "This method generates a high-level summary of the attributes of the given column. It is type-aware, meaning that its output changes based on the data type of the input. The output above only makes sense for numerical data; for string data here's what we get:"
   ]
  },
  {
   "cell_type": "code",
   "execution_count": null,
   "id": "47233d2c",
   "metadata": {
    "execution": {
     "iopub.execute_input": "2023-04-21T13:40:17.583622Z",
     "iopub.status.busy": "2023-04-21T13:40:17.582786Z",
     "iopub.status.idle": "2023-04-21T13:40:17.610407Z",
     "shell.execute_reply": "2023-04-21T13:40:17.609029Z"
    },
    "papermill": {
     "duration": 0.037534,
     "end_time": "2023-04-21T13:40:17.613242",
     "exception": false,
     "start_time": "2023-04-21T13:40:17.575708",
     "status": "completed"
    },
    "tags": []
   },
   "outputs": [],
   "source": [
    "reviews.taster_name.describe()"
   ]
  },
  {
   "cell_type": "markdown",
   "id": "6ab0423f",
   "metadata": {
    "papermill": {
     "duration": 0.005602,
     "end_time": "2023-04-21T13:40:17.624818",
     "exception": false,
     "start_time": "2023-04-21T13:40:17.619216",
     "status": "completed"
    },
    "tags": []
   },
   "source": [
    "If you want to get some particular simple summary statistic about a column in a DataFrame or a Series, there is usually a helpful pandas function that makes it happen. \n",
    "\n",
    "For example, to see the mean of the points allotted (e.g. how well an averagely rated wine does), we can use the `mean()` function:"
   ]
  },
  {
   "cell_type": "code",
   "execution_count": null,
   "id": "7469f332",
   "metadata": {
    "execution": {
     "iopub.execute_input": "2023-04-21T13:40:17.639295Z",
     "iopub.status.busy": "2023-04-21T13:40:17.638823Z",
     "iopub.status.idle": "2023-04-21T13:40:17.647830Z",
     "shell.execute_reply": "2023-04-21T13:40:17.646460Z"
    },
    "papermill": {
     "duration": 0.019111,
     "end_time": "2023-04-21T13:40:17.650403",
     "exception": false,
     "start_time": "2023-04-21T13:40:17.631292",
     "status": "completed"
    },
    "tags": []
   },
   "outputs": [],
   "source": [
    "reviews.points.mean()"
   ]
  },
  {
   "cell_type": "markdown",
   "id": "f8481919",
   "metadata": {
    "papermill": {
     "duration": 0.005857,
     "end_time": "2023-04-21T13:40:17.662565",
     "exception": false,
     "start_time": "2023-04-21T13:40:17.656708",
     "status": "completed"
    },
    "tags": []
   },
   "source": [
    "To see a list of unique values we can use the `unique()` function:"
   ]
  },
  {
   "cell_type": "code",
   "execution_count": null,
   "id": "42cb1bbe",
   "metadata": {
    "execution": {
     "iopub.execute_input": "2023-04-21T13:40:17.676512Z",
     "iopub.status.busy": "2023-04-21T13:40:17.676050Z",
     "iopub.status.idle": "2023-04-21T13:40:17.692181Z",
     "shell.execute_reply": "2023-04-21T13:40:17.690878Z"
    },
    "papermill": {
     "duration": 0.026295,
     "end_time": "2023-04-21T13:40:17.694894",
     "exception": false,
     "start_time": "2023-04-21T13:40:17.668599",
     "status": "completed"
    },
    "tags": []
   },
   "outputs": [],
   "source": [
    "reviews.taster_name.unique()"
   ]
  },
  {
   "cell_type": "markdown",
   "id": "29e31449",
   "metadata": {
    "papermill": {
     "duration": 0.005897,
     "end_time": "2023-04-21T13:40:17.708140",
     "exception": false,
     "start_time": "2023-04-21T13:40:17.702243",
     "status": "completed"
    },
    "tags": []
   },
   "source": [
    "To see a list of unique values _and_ how often they occur in the dataset, we can use the `value_counts()` method:"
   ]
  },
  {
   "cell_type": "code",
   "execution_count": null,
   "id": "c9fa0eed",
   "metadata": {
    "execution": {
     "iopub.execute_input": "2023-04-21T13:40:17.722463Z",
     "iopub.status.busy": "2023-04-21T13:40:17.721986Z",
     "iopub.status.idle": "2023-04-21T13:40:17.740482Z",
     "shell.execute_reply": "2023-04-21T13:40:17.739064Z"
    },
    "papermill": {
     "duration": 0.028567,
     "end_time": "2023-04-21T13:40:17.742941",
     "exception": false,
     "start_time": "2023-04-21T13:40:17.714374",
     "status": "completed"
    },
    "tags": []
   },
   "outputs": [],
   "source": [
    "reviews.taster_name.value_counts()"
   ]
  },
  {
   "cell_type": "markdown",
   "metadata": {},
   "source": [
    "Info method is very useful to get more information about the columns their data types and the number of non-null values."
   ]
  },
  {
   "cell_type": "code",
   "execution_count": null,
   "metadata": {},
   "outputs": [],
   "source": [
    "reviews.info()"
   ]
  },
  {
   "cell_type": "markdown",
   "id": "781bed3f",
   "metadata": {
    "papermill": {
     "duration": 0.006449,
     "end_time": "2023-04-21T13:40:17.755791",
     "exception": false,
     "start_time": "2023-04-21T13:40:17.749342",
     "status": "completed"
    },
    "tags": []
   },
   "source": [
    "# Maps\n",
    "\n",
    "A **map** is a term, borrowed from mathematics, for a function that takes one set of values and \"maps\" them to another set of values. In data science we often have a need for creating new representations from existing data, or for transforming data from the format it is in now to the format that we want it to be in later. Maps are what handle this work, making them extremely important for getting your work done!\n",
    "\n",
    "There are two mapping methods that you will use often. \n",
    "\n",
    "[`map()`](https://pandas.pydata.org/pandas-docs/stable/generated/pandas.Series.map.html) is the first, and slightly simpler one. For example, suppose that we wanted to remean the scores the wines received to 0. We can do this as follows:"
   ]
  },
  {
   "cell_type": "code",
   "execution_count": null,
   "id": "52c3e2cd",
   "metadata": {
    "execution": {
     "iopub.execute_input": "2023-04-21T13:40:17.770846Z",
     "iopub.status.busy": "2023-04-21T13:40:17.770368Z",
     "iopub.status.idle": "2023-04-21T13:40:17.844967Z",
     "shell.execute_reply": "2023-04-21T13:40:17.843597Z"
    },
    "papermill": {
     "duration": 0.085479,
     "end_time": "2023-04-21T13:40:17.848004",
     "exception": false,
     "start_time": "2023-04-21T13:40:17.762525",
     "status": "completed"
    },
    "tags": []
   },
   "outputs": [],
   "source": [
    "review_points_mean = reviews.points.mean()\n",
    "reviews.points.map(lambda p: p - review_points_mean)"
   ]
  },
  {
   "cell_type": "markdown",
   "id": "6805f933",
   "metadata": {
    "papermill": {
     "duration": 0.006373,
     "end_time": "2023-04-21T13:40:17.861856",
     "exception": false,
     "start_time": "2023-04-21T13:40:17.855483",
     "status": "completed"
    },
    "tags": []
   },
   "source": [
    "The function you pass to `map()` should expect a single value from the Series (a point value, in the above example), and return a transformed version of that value. `map()` returns a new Series where all the values have been transformed by your function.\n",
    "\n",
    "[`apply()`](https://pandas.pydata.org/pandas-docs/stable/generated/pandas.DataFrame.apply.html) is the equivalent method if we want to transform a whole DataFrame by calling a custom method on each row."
   ]
  },
  {
   "cell_type": "code",
   "execution_count": null,
   "id": "4c9cd60c",
   "metadata": {
    "execution": {
     "iopub.execute_input": "2023-04-21T13:40:17.878707Z",
     "iopub.status.busy": "2023-04-21T13:40:17.878172Z",
     "iopub.status.idle": "2023-04-21T13:40:32.746132Z",
     "shell.execute_reply": "2023-04-21T13:40:32.744833Z"
    },
    "papermill": {
     "duration": 14.879595,
     "end_time": "2023-04-21T13:40:32.749215",
     "exception": false,
     "start_time": "2023-04-21T13:40:17.869620",
     "status": "completed"
    },
    "tags": []
   },
   "outputs": [],
   "source": [
    "def remean_points(row):\n",
    "    row.points = row.points - review_points_mean\n",
    "    return row\n",
    "\n",
    "# This can take some time\n",
    "reviews.apply(remean_points, axis='columns')"
   ]
  },
  {
   "cell_type": "markdown",
   "id": "55c60bea",
   "metadata": {
    "papermill": {
     "duration": 0.006466,
     "end_time": "2023-04-21T13:40:32.762796",
     "exception": false,
     "start_time": "2023-04-21T13:40:32.756330",
     "status": "completed"
    },
    "tags": []
   },
   "source": [
    "If we had called `reviews.apply()` with `axis='index'`, then instead of passing a function to transform each row, we would need to give a function to transform each *column*.\n",
    "\n",
    "Note that `map()` and `apply()` return new, transformed Series and DataFrames, respectively. They don't modify the original data they're called on. If we look at the first row of `reviews`, we can see that it still has its original `points` value."
   ]
  },
  {
   "cell_type": "code",
   "execution_count": null,
   "id": "ea3e3102",
   "metadata": {
    "execution": {
     "iopub.execute_input": "2023-04-21T13:40:32.779233Z",
     "iopub.status.busy": "2023-04-21T13:40:32.778242Z",
     "iopub.status.idle": "2023-04-21T13:40:32.796772Z",
     "shell.execute_reply": "2023-04-21T13:40:32.795447Z"
    },
    "papermill": {
     "duration": 0.029599,
     "end_time": "2023-04-21T13:40:32.799420",
     "exception": false,
     "start_time": "2023-04-21T13:40:32.769821",
     "status": "completed"
    },
    "tags": []
   },
   "outputs": [],
   "source": [
    "reviews.head(1)"
   ]
  },
  {
   "cell_type": "markdown",
   "id": "f4119688",
   "metadata": {
    "papermill": {
     "duration": 0.006764,
     "end_time": "2023-04-21T13:40:32.813323",
     "exception": false,
     "start_time": "2023-04-21T13:40:32.806559",
     "status": "completed"
    },
    "tags": []
   },
   "source": [
    "Pandas provides many common mapping operations as built-ins. For example, here's a faster way of remeaning our points column:"
   ]
  },
  {
   "cell_type": "code",
   "execution_count": null,
   "id": "901813d6",
   "metadata": {
    "execution": {
     "iopub.execute_input": "2023-04-21T13:40:32.829543Z",
     "iopub.status.busy": "2023-04-21T13:40:32.829081Z",
     "iopub.status.idle": "2023-04-21T13:40:32.840433Z",
     "shell.execute_reply": "2023-04-21T13:40:32.839482Z"
    },
    "papermill": {
     "duration": 0.022443,
     "end_time": "2023-04-21T13:40:32.843016",
     "exception": false,
     "start_time": "2023-04-21T13:40:32.820573",
     "status": "completed"
    },
    "tags": []
   },
   "outputs": [],
   "source": [
    "review_points_mean = reviews.points.mean()\n",
    "reviews.points - review_points_mean"
   ]
  },
  {
   "cell_type": "markdown",
   "id": "53f7e539",
   "metadata": {
    "papermill": {
     "duration": 0.007697,
     "end_time": "2023-04-21T13:40:32.858679",
     "exception": false,
     "start_time": "2023-04-21T13:40:32.850982",
     "status": "completed"
    },
    "tags": []
   },
   "source": [
    "In this code we are performing an operation between a lot of values on the left-hand side (everything in the Series) and a single value on the right-hand side (the mean value). Pandas looks at this expression and figures out that we must mean to subtract that mean value from every value in the dataset.\n",
    "\n",
    "Pandas will also understand what to do if we perform these operations between Series of equal length. For example, an easy way of combining country and region information in the dataset would be to do the following:"
   ]
  },
  {
   "cell_type": "code",
   "execution_count": null,
   "id": "0ea83108",
   "metadata": {
    "execution": {
     "iopub.execute_input": "2023-04-21T13:40:32.876432Z",
     "iopub.status.busy": "2023-04-21T13:40:32.875932Z",
     "iopub.status.idle": "2023-04-21T13:40:32.933071Z",
     "shell.execute_reply": "2023-04-21T13:40:32.931561Z"
    },
    "papermill": {
     "duration": 0.06932,
     "end_time": "2023-04-21T13:40:32.935879",
     "exception": false,
     "start_time": "2023-04-21T13:40:32.866559",
     "status": "completed"
    },
    "tags": []
   },
   "outputs": [],
   "source": [
    "reviews.country + \" - \" + reviews.region_1"
   ]
  },
  {
   "cell_type": "markdown",
   "id": "e908de5c",
   "metadata": {
    "papermill": {
     "duration": 0.007163,
     "end_time": "2023-04-21T13:40:32.950986",
     "exception": false,
     "start_time": "2023-04-21T13:40:32.943823",
     "status": "completed"
    },
    "tags": []
   },
   "source": [
    "These operators are faster than `map()` or `apply()` because they use speed ups built into pandas. All of the standard Python operators (`>`, `<`, `==`, and so on) work in this manner.\n",
    "\n",
    "However, they are not as flexible as `map()` or `apply()`, which can do more advanced things, like applying conditional logic, which cannot be done with addition and subtraction alone.\n",
    "\n",
    "# Your turn\n",
    "\n",
    "If you haven't started the exercise, you can **[get started here](https://www.kaggle.com/kernels/fork/595524)**."
   ]
  },
  {
   "cell_type": "markdown",
   "id": "4ceb9fed",
   "metadata": {
    "papermill": {
     "duration": 0.007183,
     "end_time": "2023-04-21T13:40:32.965757",
     "exception": false,
     "start_time": "2023-04-21T13:40:32.958574",
     "status": "completed"
    },
    "tags": []
   },
   "source": [
    "---\n",
    "\n",
    "\n",
    "\n",
    "\n",
    "*Have questions or comments? Visit the [course discussion forum](https://www.kaggle.com/learn/pandas/discussion) to chat with other learners.*"
   ]
  }
 ],
 "metadata": {
  "kernelspec": {
   "display_name": "Python 3 (ipykernel)",
   "language": "python",
   "name": "python3"
  },
  "language_info": {
   "codemirror_mode": {
    "name": "ipython",
    "version": 3
   },
   "file_extension": ".py",
   "mimetype": "text/x-python",
   "name": "python",
   "nbconvert_exporter": "python",
   "pygments_lexer": "ipython3",
   "version": "3.10.13"
  },
  "papermill": {
   "default_parameters": {},
   "duration": 30.154089,
   "end_time": "2023-04-21T13:40:33.698241",
   "environment_variables": {},
   "exception": null,
   "input_path": "__notebook__.ipynb",
   "output_path": "__notebook__.ipynb",
   "parameters": {},
   "start_time": "2023-04-21T13:40:03.544152",
   "version": "2.4.0"
  }
 },
 "nbformat": 4,
 "nbformat_minor": 5
}
