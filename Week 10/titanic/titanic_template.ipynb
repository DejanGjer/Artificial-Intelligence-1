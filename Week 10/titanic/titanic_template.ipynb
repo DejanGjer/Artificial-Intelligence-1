{
 "cells": [
  {
   "cell_type": "code",
   "execution_count": 41,
   "metadata": {},
   "outputs": [
    {
     "name": "stdout",
     "output_type": "stream",
     "text": [
      "Setup complete!\n"
     ]
    }
   ],
   "source": [
    "import pandas as pd\n",
    "import numpy as np\n",
    "import matplotlib.pyplot as plt\n",
    "import seaborn as sns \n",
    "from sklearn.model_selection import train_test_split, KFold, cross_val_score\n",
    "from sklearn.feature_selection import mutual_info_classif\n",
    "from sklearn.linear_model import LogisticRegression\n",
    "from sklearn.metrics import accuracy_score, confusion_matrix, precision_score, recall_score, f1_score\n",
    "from sklearn.tree import DecisionTreeClassifier\n",
    "from sklearn.ensemble import RandomForestClassifier\n",
    "from sklearn.neighbors import KNeighborsClassifier\n",
    "\n",
    "# Set seeds for reproducibility\n",
    "np.random.seed(42)\n",
    "\n",
    "print(\"Setup complete!\")"
   ]
  },
  {
   "cell_type": "markdown",
   "metadata": {},
   "source": [
    "## 1. Load Data\n",
    "\n",
    "### **1.1 Overview**\n",
    "* `PassengerId` is the unique id of the row and it doesn't have any effect on target\n",
    "* `Survived` is the target variable we are trying to predict (**0** or **1**):\n",
    "    - **1 = Survived**\n",
    "    - **0 = Not Survived**\n",
    "* `Pclass` (Passenger Class) is the socio-economic status of the passenger and it is a categorical ordinal feature which has **3** unique values (**1**,  **2 **or **3**):\n",
    "    - **1 = Upper Class**\n",
    "    - **2 = Middle Class**\n",
    "    - **3 = Lower Class**\n",
    "* `Name`, `Sex` and `Age` are self-explanatory\n",
    "* `SibSp` is the total number of the passengers' siblings and spouse\n",
    "* `Parch` is the total number of the passengers' parents and children\n",
    "* `Ticket` is the ticket number of the passenger\n",
    "* `Fare` is the passenger fare\n",
    "* `Cabin` is the cabin number of the passenger\n",
    "* `Embarked` is port of embarkation and it is a categorical feature which has **3** unique values (**C**, **Q** or **S**):\n",
    "    - **C = Cherbourg**\n",
    "    - **Q = Queenstown**\n",
    "    - **S = Southampton**"
   ]
  },
  {
   "cell_type": "code",
   "execution_count": 42,
   "metadata": {},
   "outputs": [],
   "source": [
    "# Load data from Titanic dataset"
   ]
  },
  {
   "cell_type": "code",
   "execution_count": 43,
   "metadata": {},
   "outputs": [],
   "source": [
    "# Print shapes of the train and test dataframes"
   ]
  },
  {
   "cell_type": "markdown",
   "metadata": {},
   "source": [
    "Get more information abaout dataset columns."
   ]
  },
  {
   "cell_type": "code",
   "execution_count": null,
   "metadata": {},
   "outputs": [],
   "source": []
  },
  {
   "cell_type": "code",
   "execution_count": null,
   "metadata": {},
   "outputs": [],
   "source": []
  },
  {
   "cell_type": "markdown",
   "metadata": {},
   "source": [
    "Analyse Pclass Feature."
   ]
  },
  {
   "cell_type": "code",
   "execution_count": 44,
   "metadata": {},
   "outputs": [],
   "source": [
    "# Get the number of people per class and precentage of how many people survived for each class"
   ]
  },
  {
   "cell_type": "code",
   "execution_count": 45,
   "metadata": {},
   "outputs": [],
   "source": [
    "# Plot relationship between class and survival"
   ]
  },
  {
   "cell_type": "markdown",
   "metadata": {},
   "source": [
    "Analyse Sex Feature."
   ]
  },
  {
   "cell_type": "code",
   "execution_count": 46,
   "metadata": {},
   "outputs": [],
   "source": [
    "# Get the number of people per gender and precentage of how many people survived for each gender"
   ]
  },
  {
   "cell_type": "code",
   "execution_count": 47,
   "metadata": {},
   "outputs": [],
   "source": [
    "# Plot relationship between gender and survival"
   ]
  },
  {
   "cell_type": "markdown",
   "metadata": {},
   "source": [
    "Analyse Age Feature."
   ]
  },
  {
   "cell_type": "code",
   "execution_count": 48,
   "metadata": {},
   "outputs": [],
   "source": [
    "# Plot the distribution of the Age column"
   ]
  },
  {
   "cell_type": "code",
   "execution_count": 49,
   "metadata": {},
   "outputs": [],
   "source": [
    "# Plot the distribution of the Age column for each class"
   ]
  },
  {
   "cell_type": "code",
   "execution_count": 50,
   "metadata": {},
   "outputs": [],
   "source": [
    "# Get the number of people per SibSp and precentage of how many people survived for each SibSp value"
   ]
  },
  {
   "cell_type": "code",
   "execution_count": 51,
   "metadata": {},
   "outputs": [],
   "source": [
    "# Get the number of people per Parch and precentage of how many people survived for each Parch value"
   ]
  },
  {
   "cell_type": "code",
   "execution_count": 52,
   "metadata": {},
   "outputs": [],
   "source": [
    "# Plot distribution of Fare column"
   ]
  },
  {
   "cell_type": "code",
   "execution_count": 53,
   "metadata": {},
   "outputs": [],
   "source": [
    "# Plot distribution of Fare column for each class (survived vs not survived)"
   ]
  },
  {
   "cell_type": "code",
   "execution_count": 54,
   "metadata": {},
   "outputs": [],
   "source": [
    "# Value count for Cabin column"
   ]
  },
  {
   "cell_type": "code",
   "execution_count": 55,
   "metadata": {},
   "outputs": [],
   "source": [
    "# Get the number of people per embarked place and precentage of how many people survived for each embarked place"
   ]
  },
  {
   "cell_type": "code",
   "execution_count": 56,
   "metadata": {},
   "outputs": [],
   "source": [
    "# Plot relationship between embarked place and survival"
   ]
  },
  {
   "cell_type": "markdown",
   "metadata": {},
   "source": [
    "## 2. Preprocessing\n",
    "\n",
    "In this step we select the features that we will use in our model. Beside that we need to impute missing values and encode categorical features. Also some additional feature engineering can be done (merging columns, creating new features using existing ones, etc.)."
   ]
  },
  {
   "cell_type": "code",
   "execution_count": 57,
   "metadata": {},
   "outputs": [],
   "source": [
    "# Drop columns PassengerId, Name and Ticket"
   ]
  },
  {
   "cell_type": "code",
   "execution_count": 58,
   "metadata": {},
   "outputs": [],
   "source": [
    "# Show dataset info"
   ]
  },
  {
   "cell_type": "code",
   "execution_count": 59,
   "metadata": {},
   "outputs": [],
   "source": [
    "# Get FamilySize by adding SibSp, Parch and 1 (for the person itself)\n",
    "\n",
    "# Add the feature if the person is alone or not\n",
    "\n",
    "# Drop SibSp and Parch columns\n",
    "\n",
    "# Create CabinBool feature (1 if not null, 0 otherwise)\n",
    "\n",
    "# Drop Cabin column\n",
    "\n",
    "# Check the new columns"
   ]
  },
  {
   "cell_type": "code",
   "execution_count": 60,
   "metadata": {},
   "outputs": [],
   "source": [
    "# Plot relationship between Alone column and survival"
   ]
  },
  {
   "cell_type": "code",
   "execution_count": 61,
   "metadata": {},
   "outputs": [],
   "source": [
    "# Plot relationship between CabinBool column and survival"
   ]
  },
  {
   "cell_type": "markdown",
   "metadata": {},
   "source": [
    "Convert categorical features to numerical features"
   ]
  },
  {
   "cell_type": "code",
   "execution_count": 62,
   "metadata": {},
   "outputs": [],
   "source": [
    "# Convert categorical features to numerical features\n",
    "\n",
    "# One-hot encode Embarked feature\n",
    "\n",
    "# Check the new columns"
   ]
  },
  {
   "cell_type": "code",
   "execution_count": 63,
   "metadata": {},
   "outputs": [],
   "source": [
    "# Check columns with null values"
   ]
  },
  {
   "cell_type": "code",
   "execution_count": 64,
   "metadata": {},
   "outputs": [],
   "source": [
    "# Check columns with null values"
   ]
  },
  {
   "cell_type": "code",
   "execution_count": 65,
   "metadata": {},
   "outputs": [],
   "source": [
    "# Create new column AgeMissing (1 if Age is null, 0 otherwise)\n",
    "\n",
    "# Impute Age column with mean value\n",
    "\n",
    "# Impute Fare column with mean value"
   ]
  },
  {
   "cell_type": "code",
   "execution_count": 66,
   "metadata": {},
   "outputs": [],
   "source": [
    "# Normalize Age and Fare columns\n",
    "\n",
    "# Check the new columns"
   ]
  },
  {
   "cell_type": "code",
   "execution_count": 67,
   "metadata": {},
   "outputs": [],
   "source": [
    "# Calculate correlation matrix\n",
    "\n",
    "# Plot heatmap of correlation matrix"
   ]
  },
  {
   "cell_type": "code",
   "execution_count": 68,
   "metadata": {},
   "outputs": [],
   "source": [
    "# Define function to calculate MI scores\n",
    "\n",
    "# Calculate MI scores"
   ]
  },
  {
   "cell_type": "code",
   "execution_count": 69,
   "metadata": {},
   "outputs": [],
   "source": [
    "# Plot MI scores"
   ]
  },
  {
   "cell_type": "markdown",
   "metadata": {},
   "source": [
    "## 3. Train Model\n",
    "\n",
    "First we need to do the following:\n",
    "1. Dividing the data into features and labels.\n",
    "2. Splitting the data into training and testing sets. Look at [this](https://illustrated-machine-learning.github.io/#/machine-learning-engineering/introduction#training-and-holdout-sets) for more information."
   ]
  },
  {
   "cell_type": "code",
   "execution_count": 70,
   "metadata": {},
   "outputs": [],
   "source": [
    "# Split data into features and target\n",
    "\n",
    "# Split data into train and validation sets\n",
    "\n",
    "# Check shapes\n"
   ]
  },
  {
   "cell_type": "markdown",
   "metadata": {},
   "source": [
    "Define the training function"
   ]
  },
  {
   "cell_type": "code",
   "execution_count": 71,
   "metadata": {},
   "outputs": [],
   "source": [
    "# Define training method\n",
    "def train_model(model, x, y, model_name=\"\", conf=\"\", verbose=True): \n",
    "    # fit the model\n",
    "    \n",
    "    # make predictions\n",
    "    \n",
    "    # get accuracy of predictions\n",
    "    accuracy = None\n",
    "    if verbose:\n",
    "        print(f\"Model - {conf}\")\n",
    "        print(f\"Train Accuracy: {accuracy}\")\n",
    "\n",
    "    return accuracy"
   ]
  },
  {
   "cell_type": "markdown",
   "metadata": {},
   "source": [
    "Define methods for test and visualization of confusion matrix."
   ]
  },
  {
   "cell_type": "code",
   "execution_count": 72,
   "metadata": {},
   "outputs": [],
   "source": [
    "# Visualize confusion matrix\n",
    "def visualize_confusion_martix(y, y_pred, confusion_matrix):\n",
    "    cm = pd.DataFrame(confusion_matrix, index=y.unique(), columns=y.unique())\n",
    "    # plot using seaborn\n",
    "    sns.heatmap(cm, annot=True, fmt='d')\n",
    "    plt.xlabel('Predicted')\n",
    "    plt.ylabel('Actual')\n",
    "    plt.show()\n",
    "\n",
    "# Define testing method\n",
    "    def test_model(model, x, y, model_name=\"\", conf=\"\", verbose=True):\n",
    "        # make predictions\n",
    "    \n",
    "        # get accuracy of predictions\n",
    "        accuracy = None\n",
    "        # get confusion matrix\n",
    "        \n",
    "        # get precision, recall and f1 scores\n",
    "        precision = None\n",
    "        recall = None\n",
    "        f1 = None\n",
    "        if verbose:\n",
    "            print(f\"Model - {conf}\")\n",
    "            print(f\"Test Accuracy: {accuracy}\")\n",
    "            visualize_confusion_martix(y, y_pred, cm)\n",
    "            print(f\"Precision: {precision}\")\n",
    "            print(f\"Recall: {recall}\")\n",
    "            print(f\"F1 Score: {f1}\")\n",
    "\n",
    "        return accuracy, precision, recall, f1"
   ]
  },
  {
   "cell_type": "markdown",
   "metadata": {},
   "source": [
    "Train Linear Regression model"
   ]
  },
  {
   "cell_type": "code",
   "execution_count": 73,
   "metadata": {},
   "outputs": [],
   "source": [
    "# Create Logistic regression model\n",
    "\n",
    "# Train Logistic regression model\n",
    "\n",
    "# Test Logistic regression model\n"
   ]
  },
  {
   "cell_type": "markdown",
   "metadata": {},
   "source": [
    "Train KNN model."
   ]
  },
  {
   "cell_type": "code",
   "execution_count": 74,
   "metadata": {},
   "outputs": [],
   "source": [
    "# Create KNN model\n",
    "\n",
    "# Train KNN model\n",
    "\n",
    "# Test KNN model"
   ]
  },
  {
   "cell_type": "markdown",
   "metadata": {},
   "source": [
    "Train Decision Tree model."
   ]
  },
  {
   "cell_type": "code",
   "execution_count": 75,
   "metadata": {},
   "outputs": [],
   "source": [
    "# Create Decision Tree model\n",
    "\n",
    "# Train Decision Tree model\n",
    "\n",
    "# Test Decision Tree model\n"
   ]
  },
  {
   "cell_type": "markdown",
   "metadata": {},
   "source": [
    "Train Random Forest model."
   ]
  },
  {
   "cell_type": "code",
   "execution_count": 76,
   "metadata": {},
   "outputs": [],
   "source": [
    "# Create Random Forest model\n",
    "\n",
    "# Train Random Forest model\n",
    "\n",
    "# Test Random Forest model"
   ]
  },
  {
   "cell_type": "markdown",
   "metadata": {},
   "source": [
    "## 4. K-fold Cross Validation\n",
    "\n",
    "In order to have more stable testing results we can use K-fold cross validation. Look at [this](https://illustrated-machine-learning.github.io/#/machine-learning/ml-sampling-resampling#resampling) for more information."
   ]
  },
  {
   "cell_type": "code",
   "execution_count": 77,
   "metadata": {},
   "outputs": [],
   "source": [
    "# Create K fold cross validation method\n",
    "def k_fold_cross_validation(model, X, y, k_folds=10, verbose=True):\n",
    "    train_scores = []\n",
    "    test_scores = []\n",
    "\n",
    "    # YOUR CODE HERE\n",
    "\n",
    "    mean_train_acc = np.mean(train_scores)\n",
    "    mean_test_acc = np.mean([score[0] for score in test_scores])\n",
    "    mean_test_precision = np.mean([score[1] for score in test_scores])\n",
    "    mean_test_recall = np.mean([score[2] for score in test_scores])\n",
    "    mean_test_f1 = np.mean([score[3] for score in test_scores])\n",
    "    if verbose:\n",
    "        print(f\"Mean Train Accuracy: {mean_train_acc}\")\n",
    "        test_scores_df = pd.DataFrame(test_scores, columns=[\"Accuracy\", \"Precision\", \"Recall\", \"F1 Score\"])\n",
    "        print(f\"Mean Test Accuracy: {mean_test_acc}\")\n",
    "        print(f\"Mean Test Precision: {mean_test_precision}\")\n",
    "        print(f\"Mean Test Recall: {mean_test_recall}\")\n",
    "        print(f\"Mean Test F1 Score: {mean_test_f1}\")\n",
    "        print(test_scores_df)\n",
    "\n",
    "    return mean_train_acc, mean_test_acc, mean_test_precision, mean_test_recall, mean_test_f1 \n"
   ]
  },
  {
   "cell_type": "code",
   "execution_count": 78,
   "metadata": {},
   "outputs": [],
   "source": [
    "# Test K fold cross validation method on Random Forest model\n"
   ]
  },
  {
   "cell_type": "markdown",
   "metadata": {},
   "source": [
    "## 5. Hyperparameter Tuning\n",
    "\n",
    "Choose the best hyperparameters for the model. For information about hyperparameter tuning look at [this](https://illustrated-machine-learning.github.io/#/machine-learning/tuning)."
   ]
  },
  {
   "cell_type": "code",
   "execution_count": 79,
   "metadata": {},
   "outputs": [],
   "source": [
    "# Fine-tune random forest model\n",
    "max_depth = [5, 10, 30]\n",
    "num_estimators = [50, 200, 500]\n",
    "min_samples_split = [2, 5, 10]\n",
    "\n",
    "best_model = None\n",
    "best_score = 0\n",
    "best_params = None\n",
    "\n",
    "# YOUR CODE HERE\n",
    "\n"
   ]
  },
  {
   "cell_type": "code",
   "execution_count": 80,
   "metadata": {},
   "outputs": [
    {
     "name": "stdout",
     "output_type": "stream",
     "text": [
      "Best Model - None\n",
      "Best Score - 0\n"
     ]
    }
   ],
   "source": [
    "print(f\"Best Model - {best_params}\")\n",
    "print(f\"Best Score - {best_score}\")"
   ]
  },
  {
   "cell_type": "markdown",
   "metadata": {},
   "source": [
    "## 6. Inference\n",
    "\n",
    "Run the best trainined model on the test data."
   ]
  },
  {
   "cell_type": "code",
   "execution_count": null,
   "metadata": {},
   "outputs": [],
   "source": []
  },
  {
   "cell_type": "code",
   "execution_count": null,
   "metadata": {},
   "outputs": [],
   "source": []
  }
 ],
 "metadata": {
  "kernelspec": {
   "display_name": "vi1",
   "language": "python",
   "name": "python3"
  },
  "language_info": {
   "codemirror_mode": {
    "name": "ipython",
    "version": 3
   },
   "file_extension": ".py",
   "mimetype": "text/x-python",
   "name": "python",
   "nbconvert_exporter": "python",
   "pygments_lexer": "ipython3",
   "version": "3.11.5"
  }
 },
 "nbformat": 4,
 "nbformat_minor": 2
}
