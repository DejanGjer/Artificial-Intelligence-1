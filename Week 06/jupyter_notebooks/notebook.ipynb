{
 "cells": [
  {
   "cell_type": "markdown",
   "metadata": {},
   "source": [
    "## Welcome to Jupyter Notebooks in VS Code\n",
    "\n",
    "This is a Jupyter Notebook file. You can work with different programming languages in a notebook, and interactively experiment with code while writing your program.\n",
    "\n",
    "> **Tip:** To learn more about Jupyter Notebooks in VSCode, visit [documentation](https://code.visualstudio.com/docs/datascience/jupyter-notebooks).\n",
    "\n",
    "### Markdown Cells\n",
    "\n",
    "Markdown cells let us write text using _**formatting**_ syntax that can _**make**_ our _**text**_ **bold** or *italicized* or even [hyperlinked](https://code.visualstudio.com/).\n",
    "\n",
    "We can make lists too:\n",
    "- item 1\n",
    "- item 2\n",
    "- item 3\n",
    "\n",
    "### Code Cells\n",
    "\n",
    "Code cells can be written in different languages depending on the kernel you have selected. The kernel used for this notebook is **Python 3**.\n",
    "\n",
    "```python\n",
    "print(\"Hello world!\")\n",
    "```\n",
    "> **Note:** Remember that code cells share the same global namespace, so variables defined in one cell can be accessed in another.\n",
    "\n",
    "\n",
    "### Running Cells\n",
    "\n",
    "You can run a cell by clicking the **Run Cell** button in the toolbar or by pressing **Ctrl+Enter**. To run the current cell and advance to next cell, use **Shift+Enter**.\n",
    "\n",
    "You can also run all cells in a notebook by clicking the **Run All** button in the toolbar or by pressing **Ctrl+Shift+Enter**.\n",
    "\n",
    "### Restarting the Kernel\n",
    "\n",
    "If you want all the variables to be cleared, you can restart the kernel. To do this, click the **Restart** button in the toolbar.\n",
    "\n",
    "### Try it yourself! :smiley:"
   ]
  },
  {
   "cell_type": "code",
   "execution_count": 5,
   "metadata": {},
   "outputs": [
    {
     "name": "stdout",
     "output_type": "stream",
     "text": [
      "Hello world\n"
     ]
    }
   ],
   "source": [
    "msg = \"Hello world\"\n",
    "print(msg)"
   ]
  },
  {
   "cell_type": "code",
   "execution_count": 2,
   "metadata": {},
   "outputs": [
    {
     "data": {
      "text/plain": [
       "5"
      ]
     },
     "execution_count": 2,
     "metadata": {},
     "output_type": "execute_result"
    }
   ],
   "source": [
    "a = 2\n",
    "b = 3\n",
    "# if final line is an expression, it will be printed\n",
    "a + b"
   ]
  },
  {
   "cell_type": "code",
   "execution_count": 6,
   "metadata": {},
   "outputs": [],
   "source": [
    "# follow the change of a in the variables tab\n",
    "a = 4"
   ]
  },
  {
   "cell_type": "code",
   "execution_count": 7,
   "metadata": {},
   "outputs": [
    {
     "data": {
      "text/plain": [
       "5.0"
      ]
     },
     "execution_count": 7,
     "metadata": {},
     "output_type": "execute_result"
    }
   ],
   "source": [
    "import math\n",
    "c = math.sqrt(a ** 2 + b ** 2)\n",
    "c"
   ]
  }
 ],
 "metadata": {
  "kernelspec": {
   "display_name": "vi1",
   "language": "python",
   "name": "python3"
  },
  "language_info": {
   "codemirror_mode": {
    "name": "ipython",
    "version": 3
   },
   "file_extension": ".py",
   "mimetype": "text/x-python",
   "name": "python",
   "nbconvert_exporter": "python",
   "pygments_lexer": "ipython3",
   "version": "3.11.5"
  }
 },
 "nbformat": 4,
 "nbformat_minor": 2
}
