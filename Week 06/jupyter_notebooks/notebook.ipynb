{
 "cells": [
  {
   "cell_type": "markdown",
   "metadata": {},
   "source": [
    "## Welcome to Jupyter Notebooks in VS Code\n",
    "\n",
    "This is a Jupyter Notebook file. You can work with different programming languages in a notebook, and interactively experiment with code while writing your program.\n",
    "\n",
    "> **Tip:** To learn more about Jupyter Notebooks in VSCode, visit [documentation](https://code.visualstudio.com/docs/datascience/jupyter-notebooks).\n",
    "\n",
    "### Markdown Cells\n",
    "\n",
    "Markdown cells let us write text using _**formatting**_ syntax that can _**make**_ our _**text**_ **bold** or *italicized* or even [hyperlinked](https://code.visualstudio.com/).\n",
    "\n",
    "We can make lists too:\n",
    "- item 1\n",
    "- item 2\n",
    "- item 3\n",
    "\n",
    "### Code Cells\n",
    "\n",
    "Code cells can be written in different languages depending on the kernel you have selected. The kernel used for this notebook is **Python 3**.\n",
    "\n",
    "```python\n",
    "print(\"Hello world!\")\n",
    "```\n",
    "> **Note:** Remember that code cells share the same global namespace, so variables defined in one cell can be accessed in another.\n",
    "\n",
    "\n",
    "### Running Cells\n",
    "\n",
    "You can run a cell by clicking the **Run Cell** button in the toolbar or by pressing **Ctrl+Enter**. To run the current cell and advance to next cell, use **Shift+Enter**.\n",
    "\n",
    "You can also run all cells in a notebook by clicking the **Run All** button in the toolbar or by pressing **Ctrl+Shift+Enter**.\n",
    "\n",
    "### Restarting the Kernel\n",
    "\n",
    "If you want all the variables to be cleared, you can restart the kernel. To do this, click the **Restart** button in the toolbar.\n",
    "\n",
    "### Try it yourself! :smiley:"
   ]
  }
 ],
 "metadata": {
  "kernelspec": {
   "display_name": "vi1",
   "language": "python",
   "name": "python3"
  },
  "language_info": {
   "codemirror_mode": {
    "name": "ipython",
    "version": 3
   },
   "file_extension": ".py",
   "mimetype": "text/x-python",
   "name": "python",
   "nbconvert_exporter": "python",
   "pygments_lexer": "ipython3",
   "version": "3.11.5"
  }
 },
 "nbformat": 4,
 "nbformat_minor": 2
}
