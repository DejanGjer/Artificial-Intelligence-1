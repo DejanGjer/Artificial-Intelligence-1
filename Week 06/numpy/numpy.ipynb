{
 "cells": [
  {
   "cell_type": "markdown",
   "metadata": {},
   "source": [
    "# Numpy\n",
    "\n",
    "Original version of this notebook is used in the PSIML 2020. seminar (Practical Seminar in Machine Learning).\n",
    "Check out official numpy documentation [here](https://numpy.org/doc/stable/)."
   ]
  },
  {
   "cell_type": "markdown",
   "metadata": {},
   "source": [
    "NumPy is the fundamental package for scientific computing in Python. It is a Python library that provides a multidimensional array object, various derived objects (such as masked arrays and matrices), and an assortment of routines for fast operations on arrays, including mathematical, logical, shape manipulation, sorting, selecting, I/O, discrete Fourier transforms, basic linear algebra, basic statistical operations, random simulation and much more."
   ]
  },
  {
   "cell_type": "code",
   "execution_count": 1,
   "metadata": {
    "ExecuteTime": {
     "end_time": "2020-07-26T17:50:30.140980Z",
     "start_time": "2020-07-26T17:50:30.121022Z"
    }
   },
   "outputs": [
    {
     "name": "stdout",
     "output_type": "stream",
     "text": [
      "Numpy is loaded successfully!\n"
     ]
    }
   ],
   "source": [
    "import numpy as np\n",
    "\n",
    "print(\"Numpy is loaded successfully!\")"
   ]
  },
  {
   "cell_type": "markdown",
   "metadata": {},
   "source": [
    "## Arrays"
   ]
  },
  {
   "cell_type": "code",
   "execution_count": 2,
   "metadata": {
    "ExecuteTime": {
     "end_time": "2020-07-26T17:50:31.675536Z",
     "start_time": "2020-07-26T17:50:31.654011Z"
    }
   },
   "outputs": [
    {
     "name": "stdout",
     "output_type": "stream",
     "text": [
      "Array a:  [1 2 3]\n",
      "\n",
      "Shape of array a:  (3,)\n",
      "\n",
      "Data type of array a:  int64\n"
     ]
    }
   ],
   "source": [
    "# Define array\n",
    "a = np.array([1,2,3])\n",
    "\n",
    "# Some basic properties\n",
    "print(\"Array a: \", a)\n",
    "print(\"\\nShape of array a: \", a.shape)\n",
    "print(\"\\nData type of array a: \", a.dtype)"
   ]
  },
  {
   "cell_type": "code",
   "execution_count": 3,
   "metadata": {
    "ExecuteTime": {
     "end_time": "2020-07-26T17:50:32.248213Z",
     "start_time": "2020-07-26T17:50:32.236704Z"
    }
   },
   "outputs": [
    {
     "name": "stdout",
     "output_type": "stream",
     "text": [
      "Matrix b: \n",
      " [[1 2 3]\n",
      " [4 5 6]\n",
      " [7 8 9]]\n",
      "\n",
      "Shape of matrix b:  (3, 3)\n",
      "\n",
      "Data type of matrix b:  int64\n"
     ]
    }
   ],
   "source": [
    "# Define matrix\n",
    "b = np.array([[1, 2, 3], [4, 5, 6], [7, 8, 9]], dtype=np.int64)\n",
    "\n",
    "# Some basic properties\n",
    "print(\"Matrix b: \\n\", b)\n",
    "print(\"\\nShape of matrix b: \", b.shape)\n",
    "print(\"\\nData type of matrix b: \", b.dtype)"
   ]
  },
  {
   "cell_type": "code",
   "execution_count": 4,
   "metadata": {
    "ExecuteTime": {
     "end_time": "2020-07-26T17:50:34.990885Z",
     "start_time": "2020-07-26T17:50:34.971053Z"
    }
   },
   "outputs": [
    {
     "name": "stdout",
     "output_type": "stream",
     "text": [
      "Tensor c: \n",
      " [[[ 1.  2.  3.]\n",
      "  [ 4.  5.  6.]]\n",
      "\n",
      " [[ 7.  8.  9.]\n",
      "  [10. 11. 12.]]]\n",
      "\n",
      "Shape of tensor c:  (2, 2, 3)\n",
      "\n",
      "Data type of tensor c:  float64\n"
     ]
    }
   ],
   "source": [
    "# Multidim arrays - tensor\n",
    "c = np.array([[[1,2,3],[4,5,6]],[[7,8,9],[10,11,12]]], dtype=np.float64)\n",
    "\n",
    "# Some basic properties\n",
    "print(\"Tensor c: \\n\", c)\n",
    "print(\"\\nShape of tensor c: \", c.shape)\n",
    "print(\"\\nData type of tensor c: \", c.dtype)"
   ]
  },
  {
   "cell_type": "markdown",
   "metadata": {},
   "source": [
    "## Initialization functions"
   ]
  },
  {
   "cell_type": "code",
   "execution_count": 5,
   "metadata": {
    "ExecuteTime": {
     "end_time": "2020-07-26T17:50:39.211003Z",
     "start_time": "2020-07-26T17:50:39.180931Z"
    }
   },
   "outputs": [
    {
     "name": "stdout",
     "output_type": "stream",
     "text": [
      "All zeros: \n",
      " [[0. 0.]\n",
      " [0. 0.]]\n",
      "\n",
      "All ones: \n",
      " [[[1. 1. 1. 1.]\n",
      "  [1. 1. 1. 1.]\n",
      "  [1. 1. 1. 1.]]\n",
      "\n",
      " [[1. 1. 1. 1.]\n",
      "  [1. 1. 1. 1.]\n",
      "  [1. 1. 1. 1.]]]\n",
      "\n",
      "All same value: \n",
      " [[2 2]\n",
      " [2 2]]\n",
      "\n",
      "Identity matrix: \n",
      " [[1. 0. 0.]\n",
      " [0. 1. 0.]\n",
      " [0. 0. 1.]]\n",
      "\n",
      "Uniformly spaced elements: \n",
      " [0.  0.1 0.2 0.3 0.4 0.5 0.6 0.7 0.8 0.9]\n",
      "\n",
      "Numpy array with range of numbers: \n",
      " [0. 2. 4. 6. 8.]\n"
     ]
    }
   ],
   "source": [
    "# All zeros\n",
    "print(\"All zeros: \\n\", np.zeros((2,2)))\n",
    "\n",
    "# All ones\n",
    "print(\"\\nAll ones: \\n\", np.ones((2,3,4)))\n",
    "\n",
    "# All same value\n",
    "print(\"\\nAll same value: \\n\", np.full((2,2), 2))\n",
    "\n",
    "# Identity matrix\n",
    "print(\"\\nIdentity matrix: \\n\", np.eye(3))\n",
    "\n",
    "# Linspace\n",
    "print(\"\\nUniformly spaced elements: \\n\", np.linspace(start=0, stop=1, num=10, endpoint=False))\n",
    "\n",
    "# Arange\n",
    "print(\"\\nNumpy array with range of numbers: \\n\", np.arange(start=0, stop=10, step=2, dtype=np.float64))"
   ]
  },
  {
   "cell_type": "markdown",
   "metadata": {},
   "source": [
    "Numpy offers a variety of ways to generate \"random\" numbers."
   ]
  },
  {
   "cell_type": "code",
   "execution_count": 6,
   "metadata": {
    "ExecuteTime": {
     "end_time": "2020-07-26T17:50:43.710960Z",
     "start_time": "2020-07-26T17:50:43.671409Z"
    }
   },
   "outputs": [
    {
     "name": "stdout",
     "output_type": "stream",
     "text": [
      "\n",
      "Random uniform: \n",
      " [[0.22199317 0.87073231]\n",
      " [0.20671916 0.91861091]]\n",
      "\n",
      "Random integer: \n",
      " [[2 6 8]\n",
      " [5 2 8]\n",
      " [2 6 3]]\n",
      "\n",
      "Random choice: \n",
      " [6 1 4 5]\n",
      "\n",
      "Sample from Binomial distribution: \n",
      " 4\n"
     ]
    }
   ],
   "source": [
    "# All random\n",
    "# Setting a random seed is important for reproducibility of the code.\n",
    "# It is good practice to use it in ML before moving to actual training as it makes debuging a lot easier.\n",
    "np.random.seed(5)\n",
    "print(\"\\nRandom uniform: \\n\", np.random.random((2,2)))\n",
    "\n",
    "# If high=None, then [0, low) is returned. By default, single integer is returned if size=None\n",
    "print(\"\\nRandom integer: \\n\", np.random.randint(low=2, high=9, size=(3, 3)))\n",
    "print(\"\\nRandom choice: \\n\", np.random.choice([1, 2, 3, 4, 5, 6], size=(4)))\n",
    "print(\"\\nSample from Binomial distribution: \\n\", np.random.binomial(n=10,p=0.5))"
   ]
  },
  {
   "cell_type": "markdown",
   "metadata": {},
   "source": [
    "## Array indexing\n",
    "Indexing starts from 0. It is possible to use negative indexes (for example -1 for last element of array)"
   ]
  },
  {
   "cell_type": "code",
   "execution_count": 7,
   "metadata": {
    "ExecuteTime": {
     "end_time": "2020-07-26T17:50:47.597416Z",
     "start_time": "2020-07-26T17:50:47.581083Z"
    }
   },
   "outputs": [
    {
     "name": "stdout",
     "output_type": "stream",
     "text": [
      "Array a:  [1 2 3]\n",
      "First element of a:  1\n",
      "Last element of a:  3\n",
      "Last element of a:  3\n"
     ]
    }
   ],
   "source": [
    "print(\"Array a: \", a)\n",
    "print(\"First element of a: \", a[0])\n",
    "print(\"Last element of a: \", a[2])\n",
    "print(\"Last element of a: \", a[-1])"
   ]
  },
  {
   "cell_type": "markdown",
   "metadata": {},
   "source": [
    "Indexing in matrix and tensor is the same and we can index any column, row etc."
   ]
  },
  {
   "cell_type": "code",
   "execution_count": 8,
   "metadata": {
    "ExecuteTime": {
     "end_time": "2020-07-26T17:50:48.626564Z",
     "start_time": "2020-07-26T17:50:48.611030Z"
    }
   },
   "outputs": [
    {
     "name": "stdout",
     "output_type": "stream",
     "text": [
      "Matrix b: \n",
      " [[1 2 3]\n",
      " [4 5 6]\n",
      " [7 8 9]]\n",
      "\n",
      "Value of b[0]: \n",
      " [1 2 3]\n",
      "\n",
      "Value of b[-2]: \n",
      " [4 5 6]\n",
      "\n",
      "Value of b[0][1]:  2\n",
      "Value of b[0, 1]:  2\n",
      "\n",
      "Value of b[0, :]: \n",
      " [1 2 3]\n",
      "\n",
      "Value of b[0:2, 1:]: \n",
      " [[2 3]\n",
      " [5 6]]\n"
     ]
    }
   ],
   "source": [
    "print(\"Matrix b: \\n\", b)\n",
    "print(\"\\nValue of b[0]: \\n\", b[0])\n",
    "print(\"\\nValue of b[-2]: \\n\", b[-2])\n",
    "print(\"\\nValue of b[0][1]: \", b[0][1])\n",
    "print(\"Value of b[0, 1]: \", b[0, 1])\n",
    "print(\"\\nValue of b[0, :]: \\n\", b[0, :])\n",
    "print(\"\\nValue of b[0:2, 1:]: \\n\", b[0:2, 1:]) # General form is start:end"
   ]
  },
  {
   "cell_type": "code",
   "execution_count": 9,
   "metadata": {
    "ExecuteTime": {
     "end_time": "2020-07-26T17:50:52.497523Z",
     "start_time": "2020-07-26T17:50:52.491068Z"
    }
   },
   "outputs": [
    {
     "name": "stdout",
     "output_type": "stream",
     "text": [
      "Tensor c: \n",
      " [[[ 1.  2.  3.]\n",
      "  [ 4.  5.  6.]]\n",
      "\n",
      " [[ 7.  8.  9.]\n",
      "  [10. 11. 12.]]]\n",
      "\n",
      "Value of c[0]: \n",
      " [[1. 2. 3.]\n",
      " [4. 5. 6.]]\n",
      "\n",
      "Value of c[-2]: \n",
      " [[1. 2. 3.]\n",
      " [4. 5. 6.]]\n",
      "\n",
      "Value of c[0][1]:  [4. 5. 6.]\n",
      "Value of c[0][0][0]:  1.0\n",
      "Value of c[0, 0, 0]:  1.0\n",
      "\n",
      "Value of c[0, :, 0:2]: \n",
      " [[1. 2.]\n",
      " [4. 5.]]\n"
     ]
    }
   ],
   "source": [
    "print(\"Tensor c: \\n\", c)\n",
    "print(\"\\nValue of c[0]: \\n\", c[0])\n",
    "print(\"\\nValue of c[-2]: \\n\", c[-2])\n",
    "print(\"\\nValue of c[0][1]: \", c[0][1])\n",
    "print(\"Value of c[0][0][0]: \", c[0][0][0])\n",
    "print(\"Value of c[0, 0, 0]: \", c[0, 0, 0])\n",
    "print(\"\\nValue of c[0, :, 0:2]: \\n\", c[0, :, 0:2])"
   ]
  },
  {
   "cell_type": "markdown",
   "metadata": {},
   "source": [
    "### Exercise 1 \n",
    "Create a 3x3 matrix with random integers between 0 and 9. Print the matrix and its shape. Print the first row of the matrix. Print the last column of the matrix. Print the middle element of the matrix. "
   ]
  },
  {
   "cell_type": "code",
   "execution_count": 10,
   "metadata": {},
   "outputs": [
    {
     "name": "stdout",
     "output_type": "stream",
     "text": [
      "Matrix d: \n",
      " [[1 4 6]\n",
      " [2 9 9]\n",
      " [9 9 1]]\n",
      "Matrix shape: (3, 3)\n",
      "First row: [1 4 6]\n",
      "Last column: [6 9 1]\n",
      "Middle element: 9\n"
     ]
    }
   ],
   "source": [
    "# initialize matrix with random values\n",
    "d = np.random.randint(low=0, high=10, size=(3, 3))\n",
    "print(f\"Matrix d: \\n {d}\")\n",
    "print(f\"Matrix shape: {d.shape}\")\n",
    "print(f\"First row: {d[0]}\")\n",
    "print(f\"Last column: {d[:, -1]}\")\n",
    "print(f\"Middle element: {d[d.shape[0] // 2, d.shape[1] // 2]}\")"
   ]
  },
  {
   "cell_type": "markdown",
   "metadata": {},
   "source": [
    "## Basic operations"
   ]
  },
  {
   "cell_type": "code",
   "execution_count": 11,
   "metadata": {
    "ExecuteTime": {
     "end_time": "2020-07-26T17:50:56.081191Z",
     "start_time": "2020-07-26T17:50:56.061248Z"
    }
   },
   "outputs": [
    {
     "name": "stdout",
     "output_type": "stream",
     "text": [
      "Matrix x: \n",
      " [[1. 2.]\n",
      " [3. 4.]]\n",
      "\n",
      "Matrix y: \n",
      " [[5. 6.]\n",
      " [7. 8.]]\n"
     ]
    }
   ],
   "source": [
    "x = np.array([[1, 2], [3, 4]], dtype=np.float64)\n",
    "y = np.array([[5, 6], [7, 8]], dtype=np.float64)\n",
    "\n",
    "print(\"Matrix x: \\n\", x)\n",
    "print(\"\\nMatrix y: \\n\", y)"
   ]
  },
  {
   "cell_type": "code",
   "execution_count": 12,
   "metadata": {
    "ExecuteTime": {
     "end_time": "2020-07-26T17:50:56.961008Z",
     "start_time": "2020-07-26T17:50:56.941161Z"
    }
   },
   "outputs": [
    {
     "name": "stdout",
     "output_type": "stream",
     "text": [
      "Addition:\n",
      " [[ 6.  8.]\n",
      " [10. 12.]]\n",
      "Subtraction:\n",
      " [[4. 4.]\n",
      " [4. 4.]]\n",
      "Elementwise multiplication:\n",
      " [[ 5. 12.]\n",
      " [21. 32.]]\n",
      "Multiplication:\n",
      " [[19. 22.]\n",
      " [43. 50.]]\n",
      "Multiplication (dot product):\n",
      " [[19. 22.]\n",
      " [43. 50.]]\n",
      "Multiplication x@y:\n",
      " [[19. 22.]\n",
      " [43. 50.]]\n",
      "Divison:\n",
      " [[0.2        0.33333333]\n",
      " [0.42857143 0.5       ]]\n",
      "x>2:\n",
      " [[False False]\n",
      " [ True  True]]\n",
      "Square root:\n",
      " [[1.         1.41421356]\n",
      " [1.73205081 2.        ]]\n",
      "Exp:\n",
      " [[ 2.71828183  7.3890561 ]\n",
      " [20.08553692 54.59815003]]\n",
      "Dot product:\n",
      " 39.0\n",
      "Transpose:\n",
      " [[1. 3.]\n",
      " [2. 4.]]\n",
      "Inverse:\n",
      " [[-2.   1. ]\n",
      " [ 1.5 -0.5]]\n",
      "Determinant:\n",
      " -2.000000000000005\n"
     ]
    }
   ],
   "source": [
    "print(\"Addition:\\n\", x + y)\n",
    "print(\"Subtraction:\\n\", y - x)\n",
    "print(\"Elementwise multiplication:\\n\", x * y)\n",
    "print(\"Multiplication:\\n\", np.matmul(x, y))\n",
    "print(\"Multiplication (dot product):\\n\", np.dot(x, y))\n",
    "print(\"Multiplication x@y:\\n\", x@y)\n",
    "print(\"Divison:\\n\", x / y)\n",
    "print(\"x>2:\\n\", x>2)\n",
    "print(\"Square root:\\n\", np.sqrt(x))\n",
    "print(\"Exp:\\n\", np.exp(x))\n",
    "print(\"Dot product:\\n\", np.dot(x[1], y[0]))\n",
    "print(\"Transpose:\\n\", x.T)\n",
    "print(\"Inverse:\\n\", np.linalg.inv(x))\n",
    "print(\"Determinant:\\n\", np.linalg.det(y))"
   ]
  },
  {
   "cell_type": "code",
   "execution_count": 13,
   "metadata": {
    "ExecuteTime": {
     "end_time": "2020-07-26T17:51:01.066106Z",
     "start_time": "2020-07-26T17:51:01.061104Z"
    }
   },
   "outputs": [
    {
     "name": "stdout",
     "output_type": "stream",
     "text": [
      "w:\n",
      " [0, 3, -2, 9, 5]\n",
      "Argmax w:\n",
      " 3\n",
      "Max w:\n",
      " 9\n",
      "Sorted w:\n",
      " [-2  0  3  5  9]\n"
     ]
    }
   ],
   "source": [
    "w = [0, 3, -2, 9, 5]\n",
    "print(\"w:\\n\", w)\n",
    "print(\"Argmax w:\\n\", np.argmax(w))\n",
    "print(\"Max w:\\n\", np.max(w))\n",
    "print(\"Sorted w:\\n\", np.sort(w))"
   ]
  },
  {
   "cell_type": "markdown",
   "metadata": {},
   "source": [
    "Boolean indexing"
   ]
  },
  {
   "cell_type": "code",
   "execution_count": 14,
   "metadata": {
    "ExecuteTime": {
     "end_time": "2020-07-26T17:51:05.321013Z",
     "start_time": "2020-07-26T17:51:05.290899Z"
    }
   },
   "outputs": [
    {
     "name": "stdout",
     "output_type": "stream",
     "text": [
      "arr:\n",
      " [ 0 -3  4 -1  2  8  5]\n",
      "Boolean indexing:\n",
      " [4 8 5]\n",
      "arr>2:\n",
      " [False False  True False False  True  True]\n",
      "arr[arr>2]:\n",
      " [4 8 5]\n"
     ]
    }
   ],
   "source": [
    "arr = np.array([0, -3, 4, -1, 2, 8, 5])\n",
    "print(\"arr:\\n\", arr)\n",
    "print(\"Boolean indexing:\\n\", arr[[False, False, True, False, False, True, True]])\n",
    "print(\"arr>2:\\n\", arr>2)\n",
    "print(\"arr[arr>2]:\\n\", arr[arr>2])"
   ]
  },
  {
   "cell_type": "markdown",
   "metadata": {},
   "source": [
    "### Exercise 2\n",
    "Create a 3 x 4 matrix with random integers between 0 and 100. Reshape the matrix into array with 12 elements (flatten) and filter out all elements that are odd. Find the maximum element of the constructed array."
   ]
  },
  {
   "cell_type": "code",
   "execution_count": 15,
   "metadata": {},
   "outputs": [
    {
     "name": "stdout",
     "output_type": "stream",
     "text": [
      "Matrix d: \n",
      " [[82 16 78  5]\n",
      " [58  0 80  4]\n",
      " [36 51 27 31]]\n",
      "Reshaped array d: \n",
      " [82 16 78  5 58  0 80  4 36 51 27 31]\n",
      "Filtered array d: \n",
      " [82 16 78 58  0 80  4 36]\n",
      "Max element: 82\n"
     ]
    }
   ],
   "source": [
    "d = np.random.randint(low=0, high=100, size=(3, 4))\n",
    "print(f\"Matrix d: \\n {d}\")\n",
    "d = d.reshape((12,))\n",
    "print(f\"Reshaped array d: \\n {d}\")\n",
    "d = d[d % 2 == 0]\n",
    "print(f\"Filtered array d: \\n {d}\")\n",
    "max_element = np.max(d)\n",
    "print(f\"Max element: {max_element}\")"
   ]
  },
  {
   "cell_type": "markdown",
   "metadata": {},
   "source": [
    "## Broadcasting\n",
    "Broadcasting is one of the most important numpy features. The term broadcasting describes how numpy treats arrays with different shapes during arithmetic operations. Subject to certain constraints, the smaller array is \"broadcast\" across the larger array so that they have compatible shapes. Broadcasting provides a means of vectorizing array operations so that looping occurs in C instead of Python. It does this without making needless copies of data and usually leads to efficient algorithm implementations."
   ]
  },
  {
   "cell_type": "code",
   "execution_count": 16,
   "metadata": {},
   "outputs": [
    {
     "name": "stdout",
     "output_type": "stream",
     "text": [
      "a * b, a as vector, b as vector: [2. 4. 6.]\n",
      "a * b, a as vector, b as scalar: [2. 4. 6.]\n"
     ]
    }
   ],
   "source": [
    "a = np.array([1.0, 2.0, 3.0])\n",
    "b = np.array([2.0, 2.0, 2.0])\n",
    "print(\"a * b, a as vector, b as vector:\", a * b)\n",
    "\n",
    "b = np.array([2])\n",
    "print(\"a * b, a as vector, b as scalar:\", a * b)"
   ]
  },
  {
   "cell_type": "code",
   "execution_count": 17,
   "metadata": {},
   "outputs": [
    {
     "name": "stdout",
     "output_type": "stream",
     "text": [
      "Matrix a:\n",
      " [[1 2 3]\n",
      " [4 5 6]]\n",
      "Vector b: [2 4 6]\n",
      "a + b, a as matrix, b as vector:\n",
      " [[ 3  6  9]\n",
      " [ 6  9 12]]\n",
      "a * b, a as matrix, b as vector:\n",
      " [[ 2  8 18]\n",
      " [ 8 20 36]]\n",
      "Dot product of a and b:\n",
      " [28 64]\n"
     ]
    }
   ],
   "source": [
    "a = np.array([[1,2,3], [4,5,6]])\n",
    "b = np.array([2,4,6])\n",
    "\n",
    "print(\"Matrix a:\\n\", a)\n",
    "print(\"Vector b:\", b)\n",
    "print(\"a + b, a as matrix, b as vector:\\n\", a + b)\n",
    "print(\"a * b, a as matrix, b as vector:\\n\", a * b)\n",
    "print(\"Dot product of a and b:\\n\", np.dot(a, b))"
   ]
  },
  {
   "cell_type": "markdown",
   "metadata": {},
   "source": [
    "### Exercise 3: Implement sigmoid function:\n",
    "\n",
    "Sigmoid function:\n",
    "\n",
    "\\begin{equation*}\n",
    "S(x) = \\frac{1}{1 + e^{-x}}\n",
    "\\end{equation*}\n",
    "\n",
    "You can find more at *https://en.wikipedia.org/wiki/Sigmoid_function*"
   ]
  },
  {
   "cell_type": "code",
   "execution_count": 18,
   "metadata": {
    "ExecuteTime": {
     "end_time": "2020-07-26T18:00:41.706283Z",
     "start_time": "2020-07-26T18:00:41.700857Z"
    }
   },
   "outputs": [],
   "source": [
    "def sigmoid(x):\n",
    "    S = 1 / (1 + np.exp(-x))\n",
    "    return S"
   ]
  },
  {
   "cell_type": "code",
   "execution_count": 19,
   "metadata": {
    "ExecuteTime": {
     "end_time": "2020-07-26T18:00:42.226713Z",
     "start_time": "2020-07-26T18:00:42.210760Z"
    }
   },
   "outputs": [
    {
     "name": "stdout",
     "output_type": "stream",
     "text": [
      "Sigmoid of \"0\": 0.5\n",
      "Expected value: 0.5\n",
      "Sigmoid of [1,5]: [0.73105858 0.99330715]\n",
      "Expected value: [0.73105858 0.99330715]\n"
     ]
    }
   ],
   "source": [
    "print(\"Sigmoid of \\\"0\\\":\", sigmoid(0))\n",
    "print(\"Expected value: 0.5\")\n",
    "testArray = np.array([1,5])\n",
    "print(\"Sigmoid of [1,5]:\", sigmoid(testArray))\n",
    "print(\"Expected value: [0.73105858 0.99330715]\")"
   ]
  }
 ],
 "metadata": {
  "kernelspec": {
   "display_name": "Python 3",
   "language": "python",
   "name": "python3"
  },
  "language_info": {
   "codemirror_mode": {
    "name": "ipython",
    "version": 3
   },
   "file_extension": ".py",
   "mimetype": "text/x-python",
   "name": "python",
   "nbconvert_exporter": "python",
   "pygments_lexer": "ipython3",
   "version": "3.11.5"
  },
  "varInspector": {
   "cols": {
    "lenName": 16,
    "lenType": 16,
    "lenVar": 40
   },
   "kernels_config": {
    "python": {
     "delete_cmd_postfix": "",
     "delete_cmd_prefix": "del ",
     "library": "var_list.py",
     "varRefreshCmd": "print(var_dic_list())"
    },
    "r": {
     "delete_cmd_postfix": ") ",
     "delete_cmd_prefix": "rm(",
     "library": "var_list.r",
     "varRefreshCmd": "cat(var_dic_list()) "
    }
   },
   "types_to_exclude": [
    "module",
    "function",
    "builtin_function_or_method",
    "instance",
    "_Feature"
   ],
   "window_display": false
  }
 },
 "nbformat": 4,
 "nbformat_minor": 2
}
