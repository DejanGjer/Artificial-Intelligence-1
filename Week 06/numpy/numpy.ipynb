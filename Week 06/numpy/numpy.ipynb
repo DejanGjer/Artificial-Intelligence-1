{
 "cells": [
  {
   "cell_type": "markdown",
   "metadata": {},
   "source": [
    "# Numpy\n",
    "\n",
    "Original version of this notebook is used in the PSIML 2020. seminar (Practical Seminar in Machine Learning).\n",
    "Check out official numpy documentation [here](https://numpy.org/doc/stable/)."
   ]
  },
  {
   "cell_type": "markdown",
   "metadata": {},
   "source": [
    "NumPy is the fundamental package for scientific computing in Python. It is a Python library that provides a multidimensional array object, various derived objects (such as masked arrays and matrices), and an assortment of routines for fast operations on arrays, including mathematical, logical, shape manipulation, sorting, selecting, I/O, discrete Fourier transforms, basic linear algebra, basic statistical operations, random simulation and much more."
   ]
  },
  {
   "cell_type": "code",
   "execution_count": null,
   "metadata": {
    "ExecuteTime": {
     "end_time": "2020-07-26T17:50:30.140980Z",
     "start_time": "2020-07-26T17:50:30.121022Z"
    }
   },
   "outputs": [],
   "source": [
    "import numpy as np\n",
    "\n",
    "print(\"Numpy is loaded successfully!\")"
   ]
  },
  {
   "cell_type": "markdown",
   "metadata": {},
   "source": [
    "## Arrays"
   ]
  },
  {
   "cell_type": "code",
   "execution_count": null,
   "metadata": {
    "ExecuteTime": {
     "end_time": "2020-07-26T17:50:31.675536Z",
     "start_time": "2020-07-26T17:50:31.654011Z"
    }
   },
   "outputs": [],
   "source": [
    "# Define array\n",
    "a = np.array([1,2,3])\n",
    "\n",
    "# Some basic properties\n",
    "print(\"Array a: \", a)\n",
    "print(\"\\nShape of array a: \", a.shape)\n",
    "print(\"\\nData type of array a: \", a.dtype)"
   ]
  },
  {
   "cell_type": "code",
   "execution_count": null,
   "metadata": {
    "ExecuteTime": {
     "end_time": "2020-07-26T17:50:32.248213Z",
     "start_time": "2020-07-26T17:50:32.236704Z"
    }
   },
   "outputs": [],
   "source": [
    "# Define matrix\n",
    "b = np.array([[1, 2, 3], [4, 5, 6], [7, 8, 9]], dtype=np.int64)\n",
    "\n",
    "# Some basic properties\n",
    "print(\"Matrix b: \\n\", b)\n",
    "print(\"\\nShape of matrix b: \", b.shape)\n",
    "print(\"\\nData type of matrix b: \", b.dtype)"
   ]
  },
  {
   "cell_type": "code",
   "execution_count": null,
   "metadata": {
    "ExecuteTime": {
     "end_time": "2020-07-26T17:50:34.990885Z",
     "start_time": "2020-07-26T17:50:34.971053Z"
    }
   },
   "outputs": [],
   "source": [
    "# Multidim arrays - tensor\n",
    "c = np.array([[[1,2,3],[4,5,6]],[[7,8,9],[10,11,12]]], dtype=np.float64)\n",
    "\n",
    "# Some basic properties\n",
    "print(\"Tensor c: \\n\", c)\n",
    "print(\"\\nShape of tensor c: \", c.shape)\n",
    "print(\"\\nData type of tensor c: \", c.dtype)"
   ]
  },
  {
   "cell_type": "markdown",
   "metadata": {},
   "source": [
    "## Initialization functions"
   ]
  },
  {
   "cell_type": "code",
   "execution_count": null,
   "metadata": {
    "ExecuteTime": {
     "end_time": "2020-07-26T17:50:39.211003Z",
     "start_time": "2020-07-26T17:50:39.180931Z"
    }
   },
   "outputs": [],
   "source": [
    "# All zeros\n",
    "print(\"All zeros: \\n\", np.zeros((2,2)))\n",
    "\n",
    "# All ones\n",
    "print(\"\\nAll ones: \\n\", np.ones((2,3,4)))\n",
    "\n",
    "# All same value\n",
    "print(\"\\nAll same value: \\n\", np.full((2,2), 2))\n",
    "\n",
    "# Identity matrix\n",
    "print(\"\\nIdentity matrix: \\n\", np.eye(3))\n",
    "\n",
    "# Linspace\n",
    "print(\"\\nUniformly spaced elements: \\n\", np.linspace(start=0, stop=1, num=10, endpoint=False))\n",
    "\n",
    "# Arange\n",
    "print(\"\\nNumpy array with range of numbers: \\n\", np.arange(start=0, stop=10, step=2, dtype=np.float64))"
   ]
  },
  {
   "cell_type": "markdown",
   "metadata": {},
   "source": [
    "Numpy offers a variety of ways to generate \"random\" numbers."
   ]
  },
  {
   "cell_type": "code",
   "execution_count": null,
   "metadata": {
    "ExecuteTime": {
     "end_time": "2020-07-26T17:50:43.710960Z",
     "start_time": "2020-07-26T17:50:43.671409Z"
    }
   },
   "outputs": [],
   "source": [
    "# All random\n",
    "# Setting a random seed is important for reproducibility of the code.\n",
    "# It is good practice to use it in ML before moving to actual training as it makes debuging a lot easier.\n",
    "np.random.seed(5)\n",
    "print(\"\\nRandom uniform: \\n\", np.random.random((2,2)))\n",
    "\n",
    "# If high=None, then [0, low) is returned. By default, single integer is returned if size=None\n",
    "print(\"\\nRandom integer: \\n\", np.random.randint(low=2, high=9, size=(3, 3)))\n",
    "print(\"\\nRandom choice: \\n\", np.random.choice([1, 2, 3, 4, 5, 6], size=(4)))\n",
    "print(\"\\nSample from Binomial distribution: \\n\", np.random.binomial(n=10,p=0.5))"
   ]
  },
  {
   "cell_type": "markdown",
   "metadata": {},
   "source": [
    "## Array indexing\n",
    "Indexing starts from 0. It is possible to use negative indexes (for example -1 for last element of array)"
   ]
  },
  {
   "cell_type": "code",
   "execution_count": null,
   "metadata": {
    "ExecuteTime": {
     "end_time": "2020-07-26T17:50:47.597416Z",
     "start_time": "2020-07-26T17:50:47.581083Z"
    }
   },
   "outputs": [],
   "source": [
    "print(\"Array a: \", a)\n",
    "print(\"First element of a: \", a[0])\n",
    "print(\"Last element of a: \", a[2])\n",
    "print(\"Last element of a: \", a[-1])"
   ]
  },
  {
   "cell_type": "markdown",
   "metadata": {},
   "source": [
    "Indexing in matrix and tensor is the same and we can index any column, row etc."
   ]
  },
  {
   "cell_type": "code",
   "execution_count": null,
   "metadata": {
    "ExecuteTime": {
     "end_time": "2020-07-26T17:50:48.626564Z",
     "start_time": "2020-07-26T17:50:48.611030Z"
    }
   },
   "outputs": [],
   "source": [
    "print(\"Matrix b: \\n\", b)\n",
    "print(\"\\nValue of b[0]: \\n\", b[0])\n",
    "print(\"\\nValue of b[-2]: \\n\", b[-2])\n",
    "print(\"\\nValue of b[0][1]: \", b[0][1])\n",
    "print(\"Value of b[0, 1]: \", b[0, 1])\n",
    "print(\"\\nValue of b[0, :]: \\n\", b[0, :])\n",
    "print(\"\\nValue of b[0:2, 1:]: \\n\", b[0:2, 1:]) # General form is start:end"
   ]
  },
  {
   "cell_type": "code",
   "execution_count": null,
   "metadata": {
    "ExecuteTime": {
     "end_time": "2020-07-26T17:50:52.497523Z",
     "start_time": "2020-07-26T17:50:52.491068Z"
    }
   },
   "outputs": [],
   "source": [
    "print(\"Tensor c: \\n\", c)\n",
    "print(\"\\nValue of c[0]: \\n\", c[0])\n",
    "print(\"\\nValue of c[-2]: \\n\", c[-2])\n",
    "print(\"\\nValue of c[0][1]: \", c[0][1])\n",
    "print(\"Value of c[0][0][0]: \", c[0][0][0])\n",
    "print(\"Value of c[0, 0, 0]: \", c[0, 0, 0])\n",
    "print(\"\\nValue of c[0, :, 0:2]: \\n\", c[0, :, 0:2])"
   ]
  },
  {
   "cell_type": "markdown",
   "metadata": {},
   "source": [
    "### Exercise 1 \n",
    "Create a 3x3 matrix with random integers between 0 and 9. Print the matrix and its shape. Print the first row of the matrix. Print the last column of the matrix. Print the middle element of the matrix. "
   ]
  },
  {
   "cell_type": "code",
   "execution_count": null,
   "metadata": {},
   "outputs": [],
   "source": [
    "# YOUR CODE HERE"
   ]
  },
  {
   "cell_type": "markdown",
   "metadata": {},
   "source": [
    "## Basic operations"
   ]
  },
  {
   "cell_type": "code",
   "execution_count": null,
   "metadata": {
    "ExecuteTime": {
     "end_time": "2020-07-26T17:50:56.081191Z",
     "start_time": "2020-07-26T17:50:56.061248Z"
    }
   },
   "outputs": [],
   "source": [
    "x = np.array([[1, 2], [3, 4]], dtype=np.float64)\n",
    "y = np.array([[5, 6], [7, 8]], dtype=np.float64)\n",
    "\n",
    "print(\"Matrix x: \\n\", x)\n",
    "print(\"\\nMatrix y: \\n\", y)"
   ]
  },
  {
   "cell_type": "code",
   "execution_count": null,
   "metadata": {
    "ExecuteTime": {
     "end_time": "2020-07-26T17:50:56.961008Z",
     "start_time": "2020-07-26T17:50:56.941161Z"
    }
   },
   "outputs": [],
   "source": [
    "print(\"Addition:\\n\", x + y)\n",
    "print(\"Subtraction:\\n\", y - x)\n",
    "print(\"Elementwise multiplication:\\n\", x * y)\n",
    "print(\"Multiplication:\\n\", np.matmul(x, y))\n",
    "print(\"Multiplication (dot product):\\n\", np.dot(x, y))\n",
    "print(\"Multiplication x@y:\\n\", x@y)\n",
    "print(\"Divison:\\n\", x / y)\n",
    "print(\"x>2:\\n\", x>2)\n",
    "print(\"Square root:\\n\", np.sqrt(x))\n",
    "print(\"Exp:\\n\", np.exp(x))\n",
    "print(\"Dot product:\\n\", np.dot(x[1], y[0]))\n",
    "print(\"Transpose:\\n\", x.T)\n",
    "print(\"Inverse:\\n\", np.linalg.inv(x))\n",
    "print(\"Determinant:\\n\", np.linalg.det(y))"
   ]
  },
  {
   "cell_type": "code",
   "execution_count": null,
   "metadata": {
    "ExecuteTime": {
     "end_time": "2020-07-26T17:51:01.066106Z",
     "start_time": "2020-07-26T17:51:01.061104Z"
    }
   },
   "outputs": [],
   "source": [
    "w = [0, 3, -2, 9, 5]\n",
    "print(\"w:\\n\", w)\n",
    "print(\"Argmax w:\\n\", np.argmax(w))\n",
    "print(\"Max w:\\n\", np.max(w))\n",
    "print(\"Sorted w:\\n\", np.sort(w))"
   ]
  },
  {
   "cell_type": "markdown",
   "metadata": {},
   "source": [
    "Boolean indexing"
   ]
  },
  {
   "cell_type": "code",
   "execution_count": null,
   "metadata": {
    "ExecuteTime": {
     "end_time": "2020-07-26T17:51:05.321013Z",
     "start_time": "2020-07-26T17:51:05.290899Z"
    }
   },
   "outputs": [],
   "source": [
    "arr = np.array([0, -3, 4, -1, 2, 8, 5])\n",
    "print(\"arr:\\n\", arr)\n",
    "print(\"Boolean indexing:\\n\", arr[[False, False, True, False, False, True, True]])\n",
    "print(\"arr>2:\\n\", arr>2)\n",
    "print(\"arr[arr>2]:\\n\", arr[arr>2])"
   ]
  },
  {
   "cell_type": "markdown",
   "metadata": {},
   "source": [
    "### Exercise 2\n",
    "Create a 3 x 4 matrix with random integers between 0 and 100. Reshape the matrix into array with 12 elements (flatten) and filter out all elements that are odd. Find the maximum element of the constructed array."
   ]
  },
  {
   "cell_type": "code",
   "execution_count": null,
   "metadata": {},
   "outputs": [],
   "source": [
    "# YOUR CODE HERE"
   ]
  },
  {
   "cell_type": "markdown",
   "metadata": {},
   "source": [
    "## Broadcasting\n",
    "Broadcasting is one of the most important numpy features. The term broadcasting describes how numpy treats arrays with different shapes during arithmetic operations. Subject to certain constraints, the smaller array is \"broadcast\" across the larger array so that they have compatible shapes. Broadcasting provides a means of vectorizing array operations so that looping occurs in C instead of Python. It does this without making needless copies of data and usually leads to efficient algorithm implementations."
   ]
  },
  {
   "cell_type": "code",
   "execution_count": null,
   "metadata": {},
   "outputs": [],
   "source": [
    "a = np.array([1.0, 2.0, 3.0])\n",
    "b = np.array([2.0, 2.0, 2.0])\n",
    "print(\"a * b, a as vector, b as vector:\", a * b)\n",
    "\n",
    "b = np.array([2])\n",
    "print(\"a * b, a as vector, b as scalar:\", a * b)"
   ]
  },
  {
   "cell_type": "code",
   "execution_count": null,
   "metadata": {},
   "outputs": [],
   "source": [
    "a = np.array([[1,2,3], [4,5,6]])\n",
    "b = np.array([2,4,6])\n",
    "\n",
    "print(\"Matrix a:\\n\", a)\n",
    "print(\"Vector b:\", b)\n",
    "print(\"a + b, a as matrix, b as vector:\\n\", a + b)\n",
    "print(\"a * b, a as matrix, b as vector:\\n\", a * b)\n",
    "print(\"Dot product of a and b:\\n\", np.dot(a, b))"
   ]
  },
  {
   "cell_type": "markdown",
   "metadata": {},
   "source": [
    "### Exercise 3: Implement sigmoid function:\n",
    "\n",
    "Sigmoid function:\n",
    "\n",
    "\\begin{equation*}\n",
    "S(x) = \\frac{1}{1 + e^{-x}}\n",
    "\\end{equation*}\n",
    "\n",
    "You can find more at *https://en.wikipedia.org/wiki/Sigmoid_function*"
   ]
  },
  {
   "cell_type": "code",
   "execution_count": null,
   "metadata": {
    "ExecuteTime": {
     "end_time": "2020-07-26T18:00:41.706283Z",
     "start_time": "2020-07-26T18:00:41.700857Z"
    }
   },
   "outputs": [],
   "source": [
    "# YOUR CODE HERE"
   ]
  },
  {
   "cell_type": "code",
   "execution_count": null,
   "metadata": {
    "ExecuteTime": {
     "end_time": "2020-07-26T18:00:42.226713Z",
     "start_time": "2020-07-26T18:00:42.210760Z"
    }
   },
   "outputs": [],
   "source": [
    "print(\"Sigmoid of \\\"0\\\":\", sigmoid(0))\n",
    "print(\"Expected value: 0.5\")\n",
    "testArray = np.array([1,5])\n",
    "print(\"Sigmoid of [1,5]:\", sigmoid(testArray))\n",
    "print(\"Expected value: [0.73105858 0.99330715]\")"
   ]
  }
 ],
 "metadata": {
  "kernelspec": {
   "display_name": "Python 3",
   "language": "python",
   "name": "python3"
  },
  "language_info": {
   "codemirror_mode": {
    "name": "ipython",
    "version": 3
   },
   "file_extension": ".py",
   "mimetype": "text/x-python",
   "name": "python",
   "nbconvert_exporter": "python",
   "pygments_lexer": "ipython3",
   "version": "3.11.5"
  },
  "varInspector": {
   "cols": {
    "lenName": 16,
    "lenType": 16,
    "lenVar": 40
   },
   "kernels_config": {
    "python": {
     "delete_cmd_postfix": "",
     "delete_cmd_prefix": "del ",
     "library": "var_list.py",
     "varRefreshCmd": "print(var_dic_list())"
    },
    "r": {
     "delete_cmd_postfix": ") ",
     "delete_cmd_prefix": "rm(",
     "library": "var_list.r",
     "varRefreshCmd": "cat(var_dic_list()) "
    }
   },
   "types_to_exclude": [
    "module",
    "function",
    "builtin_function_or_method",
    "instance",
    "_Feature"
   ],
   "window_display": false
  }
 },
 "nbformat": 4,
 "nbformat_minor": 2
}
